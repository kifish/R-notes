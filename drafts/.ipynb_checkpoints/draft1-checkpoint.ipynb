{
 "cells": [
  {
   "cell_type": "code",
   "execution_count": 3,
   "metadata": {},
   "outputs": [
    {
     "name": "stdout",
     "output_type": "stream",
     "text": [
      " [1]  1  2  3  4  5  6  7  8  9 10\n"
     ]
    }
   ],
   "source": [
    "# 向量 \n",
    "x <- 1:10;\n",
    "print(x) "
   ]
  },
  {
   "cell_type": "code",
   "execution_count": 4,
   "metadata": {},
   "outputs": [
    {
     "name": "stdout",
     "output_type": "stream",
     "text": [
      "[1] 1 2 3 4 5\n"
     ]
    }
   ],
   "source": [
    "x <- c(1,2,3,4,5);\n",
    "print(x) "
   ]
  },
  {
   "cell_type": "code",
   "execution_count": 5,
   "metadata": {},
   "outputs": [
    {
     "name": "stdout",
     "output_type": "stream",
     "text": [
      " [1]  1  2  3  4  5  6  7  8  9 10\n"
     ]
    }
   ],
   "source": [
    "x <- seq(from=1,to=10);\n",
    "print(x) "
   ]
  },
  {
   "cell_type": "code",
   "execution_count": 6,
   "metadata": {},
   "outputs": [
    {
     "name": "stdout",
     "output_type": "stream",
     "text": [
      "[1] 1 3 5 7 9\n"
     ]
    }
   ],
   "source": [
    "x <- seq(from=1,to=10,by=2);\n",
    "print(x) "
   ]
  },
  {
   "cell_type": "code",
   "execution_count": 8,
   "metadata": {},
   "outputs": [
    {
     "name": "stdout",
     "output_type": "stream",
     "text": [
      " [1]  1.000000  1.473684  1.947368  2.421053  2.894737  3.368421  3.842105\n",
      " [8]  4.315789  4.789474  5.263158  5.736842  6.210526  6.684211  7.157895\n",
      "[15]  7.631579  8.105263  8.578947  9.052632  9.526316 10.000000\n"
     ]
    }
   ],
   "source": [
    "x <- seq(from=1,to=10,length.out=20);\n",
    "print(x) "
   ]
  },
  {
   "cell_type": "code",
   "execution_count": 11,
   "metadata": {},
   "outputs": [
    {
     "name": "stdout",
     "output_type": "stream",
     "text": [
      " [1] \"2014-01-01\" \"2014-01-02\" \"2014-01-03\" \"2014-01-04\" \"2014-01-05\"\n",
      " [6] \"2014-01-06\" \"2014-01-07\" \"2014-01-08\" \"2014-01-09\" \"2014-01-10\"\n",
      "[11] \"2014-01-11\" \"2014-01-12\" \"2014-01-13\" \"2014-01-14\" \"2014-01-15\"\n",
      "[16] \"2014-01-16\" \"2014-01-17\" \"2014-01-18\" \"2014-01-19\" \"2014-01-20\"\n",
      "[21] \"2014-01-21\" \"2014-01-22\" \"2014-01-23\" \"2014-01-24\" \"2014-01-25\"\n",
      "[26] \"2014-01-26\" \"2014-01-27\" \"2014-01-28\" \"2014-01-29\" \"2014-01-30\"\n",
      "[31] \"2014-01-31\" \"2014-02-01\"\n",
      "[1] \"Date\"\n"
     ]
    }
   ],
   "source": [
    "# 生成日期变量并用生成的日期变量生成一组日期序列数据： \n",
    "s <- as.Date('2014-1-1') \n",
    "e <- as.Date('2014-2-1') \n",
    "dtVec <- seq(from=s,to=e,by=1) \n",
    "print(dtVec) \n",
    "print(class(dtVec)) "
   ]
  },
  {
   "cell_type": "code",
   "execution_count": 4,
   "metadata": {},
   "outputs": [
    {
     "data": {
      "text/html": [
       "<ol class=list-inline>\n",
       "\t<li>1</li>\n",
       "\t<li>1</li>\n",
       "\t<li>1</li>\n",
       "\t<li>1</li>\n",
       "\t<li>1</li>\n",
       "\t<li>2</li>\n",
       "\t<li>2</li>\n",
       "\t<li>2</li>\n",
       "\t<li>2</li>\n",
       "\t<li>2</li>\n",
       "</ol>\n"
      ],
      "text/latex": [
       "\\begin{enumerate*}\n",
       "\\item 1\n",
       "\\item 1\n",
       "\\item 1\n",
       "\\item 1\n",
       "\\item 1\n",
       "\\item 2\n",
       "\\item 2\n",
       "\\item 2\n",
       "\\item 2\n",
       "\\item 2\n",
       "\\end{enumerate*}\n"
      ],
      "text/markdown": [
       "1. 1\n",
       "2. 1\n",
       "3. 1\n",
       "4. 1\n",
       "5. 1\n",
       "6. 2\n",
       "7. 2\n",
       "8. 2\n",
       "9. 2\n",
       "10. 2\n",
       "\n",
       "\n"
      ],
      "text/plain": [
       " [1] 1 1 1 1 1 2 2 2 2 2\n",
       "Levels: 1 2"
      ]
     },
     "metadata": {},
     "output_type": "display_data"
    }
   ],
   "source": [
    "x = gl(2,5) #gl是一个函数\n",
    "x"
   ]
  },
  {
   "cell_type": "code",
   "execution_count": 5,
   "metadata": {},
   "outputs": [
    {
     "data": {
      "text/html": [
       "'factor'"
      ],
      "text/latex": [
       "'factor'"
      ],
      "text/markdown": [
       "'factor'"
      ],
      "text/plain": [
       "[1] \"factor\""
      ]
     },
     "metadata": {},
     "output_type": "display_data"
    }
   ],
   "source": [
    "class(x)"
   ]
  },
  {
   "cell_type": "code",
   "execution_count": 6,
   "metadata": {},
   "outputs": [
    {
     "data": {
      "text/html": [
       "'numeric'"
      ],
      "text/latex": [
       "'numeric'"
      ],
      "text/markdown": [
       "'numeric'"
      ],
      "text/plain": [
       "[1] \"numeric\""
      ]
     },
     "metadata": {},
     "output_type": "display_data"
    }
   ],
   "source": [
    "mode(x)"
   ]
  },
  {
   "cell_type": "code",
   "execution_count": 7,
   "metadata": {},
   "outputs": [
    {
     "data": {
      "text/html": [
       "'integer'"
      ],
      "text/latex": [
       "'integer'"
      ],
      "text/markdown": [
       "'integer'"
      ],
      "text/plain": [
       "[1] \"integer\""
      ]
     },
     "metadata": {},
     "output_type": "display_data"
    }
   ],
   "source": [
    "typeof(x)"
   ]
  },
  {
   "cell_type": "markdown",
   "metadata": {},
   "source": [
    "%>% 是管道符号\n",
    "举例:   \n",
    "f1() %>% f2()      \n",
    "相当于把f1()的输出作为f2()的输入"
   ]
  },
  {
   "cell_type": "code",
   "execution_count": 11,
   "metadata": {},
   "outputs": [
    {
     "name": "stdout",
     "output_type": "stream",
     "text": [
      " [1] 1 1 1 1 1 1 1 1 1 1\n",
      "[1] \"USD\" \"USD\" \"USD\" \"USD\" \"USD\"\n"
     ]
    }
   ],
   "source": [
    "# 生成一组重复数据。使用常数初始化指定长度的向量： \n",
    "x <- rep(1,10);\n",
    "print(x) \n",
    "x <- rep('USD',5);\n",
    "print(x) \n"
   ]
  },
  {
   "cell_type": "code",
   "execution_count": 12,
   "metadata": {},
   "outputs": [
    {
     "name": "stdout",
     "output_type": "stream",
     "text": [
      " [1] 38  7 23  6 70 39 83 79 30 27\n",
      " [1] 1 0 1 0 0 1 1 1 1 1 1 0 0 1 1 1 0 1 1 0\n"
     ]
    }
   ],
   "source": [
    "# sample()取样函数从一组数据中随机取出指定数量的数据 \n",
    "# replace参数决定是否可以重复取数 \n",
    "y <- sample(x=1:100,size=10,replace=F);\n",
    "print(y) \n",
    "y <- sample(x=c(0,1),size=20,replace=T);\n",
    "print(y) "
   ]
  },
  {
   "cell_type": "code",
   "execution_count": 13,
   "metadata": {},
   "outputs": [
    {
     "name": "stdout",
     "output_type": "stream",
     "text": [
      " [1]  84.41965 118.67698 110.43425  87.16716 100.54518 122.29677  81.63525\n",
      " [8]  86.40491 107.38992  84.93556\n"
     ]
    }
   ],
   "source": [
    "#使用正态分布随机数生成函数生成指定数量、平均值、标准差的随机数： \n",
    "x <- rnorm(n=10,mean=100,sd=20);\n",
    "print(x)"
   ]
  },
  {
   "cell_type": "code",
   "execution_count": 14,
   "metadata": {},
   "outputs": [
    {
     "name": "stdout",
     "output_type": "stream",
     "text": [
      "     [,1] [,2] [,3] [,4]\n",
      "[1,]    1    6   11   16\n",
      "[2,]    2    7   12   17\n",
      "[3,]    3    8   13   18\n",
      "[4,]    4    9   14   19\n",
      "[5,]    5   10   15   20\n"
     ]
    }
   ],
   "source": [
    "# 数组 \n",
    "# 生成向量然后通过设置行列数据转换成二维数组 \n",
    "x <- 1:20 \n",
    "dim(x) <- c(5,4) \n",
    "print(x) "
   ]
  },
  {
   "cell_type": "code",
   "execution_count": 15,
   "metadata": {},
   "outputs": [
    {
     "name": "stdout",
     "output_type": "stream",
     "text": [
      "     [,1] [,2] [,3] [,4]\n",
      "[1,] 3.14 3.14 3.14 3.14\n",
      "[2,] 3.14 3.14 3.14 3.14\n",
      "[3,] 3.14 3.14 3.14 3.14\n",
      "[4,] 3.14 3.14 3.14 3.14\n",
      "[5,] 3.14 3.14 3.14 3.14\n"
     ]
    }
   ],
   "source": [
    "x <- array(3.14,dim=c(5,4)) \n",
    "print(x) "
   ]
  },
  {
   "cell_type": "code",
   "execution_count": 16,
   "metadata": {},
   "outputs": [
    {
     "name": "stdout",
     "output_type": "stream",
     "text": [
      ", , 1\n",
      "\n",
      "          [,1]      [,2]      [,3]      [,4]\n",
      "[1,] 11.739859 14.671944 16.043055  4.474288\n",
      "[2,]  8.392017 13.108677  6.285443  8.783863\n",
      "[3,] 12.678970 10.834419 14.227438 16.491985\n",
      "[4,] 18.182335 12.881927 22.191449  5.994543\n",
      "[5,]  8.866629  5.770009 16.437035 17.510703\n",
      "\n",
      ", , 2\n",
      "\n",
      "          [,1]      [,2]      [,3]      [,4]\n",
      "[1,] 0.3057222  6.711887  7.229127  9.155751\n",
      "[2,] 8.9476973 16.028550 18.465106 12.385906\n",
      "[3,] 4.1443411 13.125212 18.698592 11.844463\n",
      "[4,] 7.6627066 11.949013  8.229086 11.646247\n",
      "[5,] 1.1682728  4.520407  9.066174  3.367711\n",
      "\n",
      "[1] 40\n"
     ]
    }
   ],
   "source": [
    "# 可以生成三维数组 \n",
    "# 使用正态分布随机数初始化整个数组 \n",
    "#  rnorm(n=40,mean=10,sd=5)\n",
    "x <- array(rnorm(40,10,5),dim=c(5,4,2)) \n",
    "print(x) \n",
    "print(length(x)) \n",
    "# 对于矩阵length()函数得到的是所有元素的总数量"
   ]
  },
  {
   "cell_type": "markdown",
   "metadata": {},
   "source": [
    "数据框的形式和Excel比较相似    \n",
    "每一列可以看做是一个向量，类型相同；不同列数据之间可以有不同类型    \n",
    "同列表的重要区别是：数据框要求每一列数据长度相同    \n",
    "数据框的每一行可以看作是一条记录，每一列看做是记录的某一个属性    \n",
    "数据框是金融大数据处理中非常重要的数据结构，用途很广必须深入了解    "
   ]
  },
  {
   "cell_type": "code",
   "execution_count": 19,
   "metadata": {},
   "outputs": [
    {
     "data": {
      "text/html": [
       "<table>\n",
       "<thead><tr><th scope=col>symbols</th><th scope=col>price</th><th scope=col>currency</th><th scope=col>country</th><th scope=col>type</th></tr></thead>\n",
       "<tbody>\n",
       "\t<tr><td>MSFT </td><td>40.40</td><td>USD  </td><td>USA  </td><td>STOCK</td></tr>\n",
       "\t<tr><td>KO   </td><td>40.56</td><td>USD  </td><td>USA  </td><td>STOCK</td></tr>\n",
       "\t<tr><td>CSCO </td><td>23.02</td><td>USD  </td><td>USA  </td><td>STOCK</td></tr>\n",
       "</tbody>\n",
       "</table>\n"
      ],
      "text/latex": [
       "\\begin{tabular}{r|lllll}\n",
       " symbols & price & currency & country & type\\\\\n",
       "\\hline\n",
       "\t MSFT  & 40.40 & USD   & USA   & STOCK\\\\\n",
       "\t KO    & 40.56 & USD   & USA   & STOCK\\\\\n",
       "\t CSCO  & 23.02 & USD   & USA   & STOCK\\\\\n",
       "\\end{tabular}\n"
      ],
      "text/markdown": [
       "\n",
       "symbols | price | currency | country | type | \n",
       "|---|---|---|\n",
       "| MSFT  | 40.40 | USD   | USA   | STOCK | \n",
       "| KO    | 40.56 | USD   | USA   | STOCK | \n",
       "| CSCO  | 23.02 | USD   | USA   | STOCK | \n",
       "\n",
       "\n"
      ],
      "text/plain": [
       "  symbols price currency country type \n",
       "1 MSFT    40.40 USD      USA     STOCK\n",
       "2 KO      40.56 USD      USA     STOCK\n",
       "3 CSCO    23.02 USD      USA     STOCK"
      ]
     },
     "metadata": {},
     "output_type": "display_data"
    }
   ],
   "source": [
    "df <- data.frame(symbols=c('MSFT','KO','CSCO'),price=c(40.40,40.56,23.02),currency=rep('USD',3),country=rep('USA',3),type=rep('STOCK',3)) \n",
    "df"
   ]
  },
  {
   "cell_type": "code",
   "execution_count": 21,
   "metadata": {},
   "outputs": [
    {
     "name": "stdout",
     "output_type": "stream",
     "text": [
      "[1] \"data.frame\"\n",
      "df数据框行数为： 3 \n",
      "df数据框列数为： 5 \n",
      "列数（属性）数量： 5 \n"
     ]
    }
   ],
   "source": [
    "print(class(df)) \n",
    "cat('df数据框行数为：',nrow(df),'\\ndf数据框列数为：',ncol(df),'\\n',sep=' ') \n",
    "cat('列数（属性）数量：',length(df),'\\n',sep=' ') "
   ]
  },
  {
   "cell_type": "markdown",
   "metadata": {},
   "source": [
    "列表 \n",
    "列表使用list()函数来定义，列表中的每个元素可以是单个变量或者是向量，甚至是另一个列表 \n",
    "列表中每个向量的长度可以不同，这是列表和数据框的重要区别 \n",
    "数据框是一种形式特殊的列表 "
   ]
  },
  {
   "cell_type": "code",
   "execution_count": 22,
   "metadata": {
    "scrolled": true
   },
   "outputs": [
    {
     "data": {
      "text/html": [
       "<dl>\n",
       "\t<dt>$symbols</dt>\n",
       "\t\t<dd><ol class=list-inline>\n",
       "\t<li>'MSFT'</li>\n",
       "\t<li>'KO'</li>\n",
       "\t<li>'CSCO'</li>\n",
       "</ol>\n",
       "</dd>\n",
       "\t<dt>$price</dt>\n",
       "\t\t<dd><ol class=list-inline>\n",
       "\t<li>40.4</li>\n",
       "\t<li>40.56</li>\n",
       "\t<li>23.02</li>\n",
       "</ol>\n",
       "</dd>\n",
       "\t<dt>$currency</dt>\n",
       "\t\t<dd>'USD'</dd>\n",
       "\t<dt>$country</dt>\n",
       "\t\t<dd>'USA'</dd>\n",
       "\t<dt>$type</dt>\n",
       "\t\t<dd>'STOCK'</dd>\n",
       "</dl>\n"
      ],
      "text/latex": [
       "\\begin{description}\n",
       "\\item[\\$symbols] \\begin{enumerate*}\n",
       "\\item 'MSFT'\n",
       "\\item 'KO'\n",
       "\\item 'CSCO'\n",
       "\\end{enumerate*}\n",
       "\n",
       "\\item[\\$price] \\begin{enumerate*}\n",
       "\\item 40.4\n",
       "\\item 40.56\n",
       "\\item 23.02\n",
       "\\end{enumerate*}\n",
       "\n",
       "\\item[\\$currency] 'USD'\n",
       "\\item[\\$country] 'USA'\n",
       "\\item[\\$type] 'STOCK'\n",
       "\\end{description}\n"
      ],
      "text/markdown": [
       "$symbols\n",
       ":   1. 'MSFT'\n",
       "2. 'KO'\n",
       "3. 'CSCO'\n",
       "\n",
       "\n",
       "\n",
       "$price\n",
       ":   1. 40.4\n",
       "2. 40.56\n",
       "3. 23.02\n",
       "\n",
       "\n",
       "\n",
       "$currency\n",
       ":   'USD'\n",
       "$country\n",
       ":   'USA'\n",
       "$type\n",
       ":   'STOCK'\n",
       "\n",
       "\n"
      ],
      "text/plain": [
       "$symbols\n",
       "[1] \"MSFT\" \"KO\"   \"CSCO\"\n",
       "\n",
       "$price\n",
       "[1] 40.40 40.56 23.02\n",
       "\n",
       "$currency\n",
       "[1] \"USD\"\n",
       "\n",
       "$country\n",
       "[1] \"USA\"\n",
       "\n",
       "$type\n",
       "[1] \"STOCK\"\n"
      ]
     },
     "metadata": {},
     "output_type": "display_data"
    },
    {
     "name": "stdout",
     "output_type": "stream",
     "text": [
      "[1] 5\n"
     ]
    }
   ],
   "source": [
    "lst <- list(symbols=c('MSFT','KO','CSCO'),price=c(40.40,40.56,23.02),currency='USD',country='USA',type='STOCK') \n",
    "lst \n",
    "print(length(lst)) # 共5个元素"
   ]
  },
  {
   "cell_type": "markdown",
   "metadata": {},
   "source": [
    "可以和python中pandas的dataframe对比下"
   ]
  },
  {
   "cell_type": "code",
   "execution_count": 23,
   "metadata": {},
   "outputs": [
    {
     "name": "stdout",
     "output_type": "stream",
     "text": [
      "[1] \"Date\"\n",
      "[1] \"2018-08-03\"\n",
      "[1] \"POSIXct\" \"POSIXt\" \n",
      "[1] \"2018-08-03 11:31:09 CST\"\n",
      "[1] \"Date\"\n",
      "[1] \"2014-04-17\"\n",
      "[1] \"Date\"\n",
      "[1] \"2014-04-17\"\n"
     ]
    }
   ],
   "source": [
    "# 日期类变量 \n",
    "dtVar <- Sys.Date() \n",
    "print(class(dtVar));\n",
    "print(dtVar) \n",
    "dtVar <- Sys.time() \n",
    "print(class(dtVar));\n",
    "print(dtVar) \n",
    "dtVar <- as.Date('2014-4-17',tz='UTC') \n",
    "print(class(dtVar));\n",
    "print(dtVar) \n",
    "dtVar <- as.Date('2014/4/17',tz='CST')\n",
    "print(class(dtVar));\n",
    "print(dtVar)"
   ]
  },
  {
   "cell_type": "code",
   "execution_count": 26,
   "metadata": {},
   "outputs": [
    {
     "name": "stdout",
     "output_type": "stream",
     "text": [
      "[1] \"POSIXct\" \"POSIXt\" \n",
      "[1] \"2014-04-17 12:00:00 GMT\"\n",
      "[1] \"POSIXct\" \"POSIXt\" \n",
      "[1] \"2014-04-17 15:28:48 CST\"\n"
     ]
    },
    {
     "data": {
      "text/html": [
       "16177"
      ],
      "text/latex": [
       "16177"
      ],
      "text/markdown": [
       "16177"
      ],
      "text/plain": [
       "[1] 16177"
      ]
     },
     "metadata": {},
     "output_type": "display_data"
    }
   ],
   "source": [
    "# 用数字直接生成日期对象 \n",
    "# ISOdate()函数得到的是一个POSIXct对象 \n",
    "t <- ISOdate(2014,4,17) \n",
    "print(class(t));\n",
    "print(t) \n",
    "# 允许继续加入小时、分钟、秒数信息 \n",
    "t <- ISOdatetime(2014,4,17,15,28,48) \n",
    "print(class(t));\n",
    "print(t) \n",
    "# 将Date日期转换成儒略日期 \n",
    "# 在R中这是自1970-1-1以来的天数 \n",
    "d <- as.Date('2014-4-17') \n",
    "as.integer(d) "
   ]
  },
  {
   "cell_type": "code",
   "execution_count": 27,
   "metadata": {},
   "outputs": [
    {
     "data": {
      "text/html": [
       "16177"
      ],
      "text/latex": [
       "16177"
      ],
      "text/markdown": [
       "16177"
      ],
      "text/plain": [
       "[1] 16177\n",
       "attr(,\"origin\")\n",
       "[1] \"1970-01-01\""
      ]
     },
     "metadata": {},
     "output_type": "display_data"
    }
   ],
   "source": [
    "julian(d) "
   ]
  },
  {
   "cell_type": "code",
   "execution_count": 28,
   "metadata": {},
   "outputs": [
    {
     "name": "stdout",
     "output_type": "stream",
     "text": [
      "[1] \"POSIXlt\" \"POSIXt\" \n",
      "[1] \"list\"\n",
      "[1] \"2018-08-03 11:34:48 CST\"\n"
     ]
    }
   ],
   "source": [
    "# 提取日期中的各个组成部分信息 \n",
    "d <- Sys.time() \n",
    "p <- as.POSIXlt(d) \n",
    "print(class(p));\n",
    "print(mode(p));\n",
    "print(p)"
   ]
  },
  {
   "cell_type": "code",
   "execution_count": 29,
   "metadata": {},
   "outputs": [
    {
     "name": "stdout",
     "output_type": "stream",
     "text": [
      "[1] 2018\n"
     ]
    }
   ],
   "source": [
    "# p$year 自1900年以来的年份\n",
    "print(p$year+1900)"
   ]
  },
  {
   "cell_type": "code",
   "execution_count": 30,
   "metadata": {},
   "outputs": [
    {
     "name": "stdout",
     "output_type": "stream",
     "text": [
      "[1] 8\n"
     ]
    }
   ],
   "source": [
    "# p$mon 表示0-11月\n",
    "print(p$mon+1)"
   ]
  },
  {
   "cell_type": "code",
   "execution_count": 31,
   "metadata": {},
   "outputs": [
    {
     "name": "stdout",
     "output_type": "stream",
     "text": [
      "[1] 3\n"
     ]
    }
   ],
   "source": [
    "# p$mday 该月的第几天\n",
    "print(p$mday)"
   ]
  },
  {
   "cell_type": "code",
   "execution_count": 32,
   "metadata": {},
   "outputs": [
    {
     "name": "stdout",
     "output_type": "stream",
     "text": [
      "[1] 215\n"
     ]
    }
   ],
   "source": [
    "# p$yday 该年的第几天，0-365天，元旦当天是第0天\n",
    "print(p$yday+1)"
   ]
  },
  {
   "cell_type": "code",
   "execution_count": 34,
   "metadata": {},
   "outputs": [
    {
     "name": "stdout",
     "output_type": "stream",
     "text": [
      "[1] 5\n"
     ]
    }
   ],
   "source": [
    "# p$wday 对应周几，0-6，周日为0，其他时间和我们日常习惯一致\n",
    "# 2018-08-03 是周五\n",
    "print(p$wday)"
   ]
  },
  {
   "cell_type": "code",
   "execution_count": 41,
   "metadata": {},
   "outputs": [
    {
     "ename": "ERROR",
     "evalue": "Error in parse(text = x, srcfile = src): <text>:1:3: 意外的','\n1: (1,\n      ^\n",
     "output_type": "error",
     "traceback": [
      "Error in parse(text = x, srcfile = src): <text>:1:3: 意外的','\n1: (1,\n      ^\nTraceback:\n"
     ]
    }
   ],
   "source": []
  },
  {
   "cell_type": "code",
   "execution_count": null,
   "metadata": {},
   "outputs": [],
   "source": []
  }
 ],
 "metadata": {
  "kernelspec": {
   "display_name": "R",
   "language": "R",
   "name": "ir"
  },
  "language_info": {
   "codemirror_mode": "r",
   "file_extension": ".r",
   "mimetype": "text/x-r-source",
   "name": "R",
   "pygments_lexer": "r",
   "version": "3.4.3"
  }
 },
 "nbformat": 4,
 "nbformat_minor": 2
}
