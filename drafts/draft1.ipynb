{
 "cells": [
  {
   "cell_type": "code",
   "execution_count": 3,
   "metadata": {},
   "outputs": [
    {
     "name": "stdout",
     "output_type": "stream",
     "text": [
      " [1]  1  2  3  4  5  6  7  8  9 10\n"
     ]
    }
   ],
   "source": [
    "# 向量 \n",
    "x <- 1:10;\n",
    "print(x) "
   ]
  },
  {
   "cell_type": "code",
   "execution_count": 4,
   "metadata": {},
   "outputs": [
    {
     "name": "stdout",
     "output_type": "stream",
     "text": [
      "[1] 1 2 3 4 5\n"
     ]
    }
   ],
   "source": [
    "x <- c(1,2,3,4,5);\n",
    "print(x) "
   ]
  },
  {
   "cell_type": "code",
   "execution_count": 5,
   "metadata": {},
   "outputs": [
    {
     "name": "stdout",
     "output_type": "stream",
     "text": [
      " [1]  1  2  3  4  5  6  7  8  9 10\n"
     ]
    }
   ],
   "source": [
    "x <- seq(from=1,to=10);\n",
    "print(x) "
   ]
  },
  {
   "cell_type": "code",
   "execution_count": 6,
   "metadata": {},
   "outputs": [
    {
     "name": "stdout",
     "output_type": "stream",
     "text": [
      "[1] 1 3 5 7 9\n"
     ]
    }
   ],
   "source": [
    "x <- seq(from=1,to=10,by=2);\n",
    "print(x) "
   ]
  },
  {
   "cell_type": "code",
   "execution_count": 8,
   "metadata": {},
   "outputs": [
    {
     "name": "stdout",
     "output_type": "stream",
     "text": [
      " [1]  1.000000  1.473684  1.947368  2.421053  2.894737  3.368421  3.842105\n",
      " [8]  4.315789  4.789474  5.263158  5.736842  6.210526  6.684211  7.157895\n",
      "[15]  7.631579  8.105263  8.578947  9.052632  9.526316 10.000000\n"
     ]
    }
   ],
   "source": [
    "x <- seq(from=1,to=10,length.out=20);\n",
    "print(x) "
   ]
  },
  {
   "cell_type": "code",
   "execution_count": 11,
   "metadata": {},
   "outputs": [
    {
     "name": "stdout",
     "output_type": "stream",
     "text": [
      " [1] \"2014-01-01\" \"2014-01-02\" \"2014-01-03\" \"2014-01-04\" \"2014-01-05\"\n",
      " [6] \"2014-01-06\" \"2014-01-07\" \"2014-01-08\" \"2014-01-09\" \"2014-01-10\"\n",
      "[11] \"2014-01-11\" \"2014-01-12\" \"2014-01-13\" \"2014-01-14\" \"2014-01-15\"\n",
      "[16] \"2014-01-16\" \"2014-01-17\" \"2014-01-18\" \"2014-01-19\" \"2014-01-20\"\n",
      "[21] \"2014-01-21\" \"2014-01-22\" \"2014-01-23\" \"2014-01-24\" \"2014-01-25\"\n",
      "[26] \"2014-01-26\" \"2014-01-27\" \"2014-01-28\" \"2014-01-29\" \"2014-01-30\"\n",
      "[31] \"2014-01-31\" \"2014-02-01\"\n",
      "[1] \"Date\"\n"
     ]
    }
   ],
   "source": [
    "# 生成日期变量并用生成的日期变量生成一组日期序列数据： \n",
    "s <- as.Date('2014-1-1') \n",
    "e <- as.Date('2014-2-1') \n",
    "dtVec <- seq(from=s,to=e,by=1) \n",
    "print(dtVec) \n",
    "print(class(dtVec)) "
   ]
  },
  {
   "cell_type": "code",
   "execution_count": null,
   "metadata": {},
   "outputs": [],
   "source": []
  }
 ],
 "metadata": {
  "kernelspec": {
   "display_name": "R",
   "language": "R",
   "name": "ir"
  },
  "language_info": {
   "codemirror_mode": "r",
   "file_extension": ".r",
   "mimetype": "text/x-r-source",
   "name": "R",
   "pygments_lexer": "r",
   "version": "3.4.3"
  }
 },
 "nbformat": 4,
 "nbformat_minor": 2
}
