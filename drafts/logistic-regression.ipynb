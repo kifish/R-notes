{
 "cells": [
  {
   "cell_type": "markdown",
   "metadata": {},
   "source": [
    "https://www.r-bloggers.com/how-to-perform-a-logistic-regression-in-r/\n",
    "\n",
    "predictors 相当于features"
   ]
  },
  {
   "cell_type": "code",
   "execution_count": 3,
   "metadata": {},
   "outputs": [],
   "source": [
    "training_data_raw <- read.csv('train.csv',header=T,na.strings=c(\"\"))"
   ]
  },
  {
   "cell_type": "code",
   "execution_count": 12,
   "metadata": {},
   "outputs": [
    {
     "data": {
      "text/html": [
       "'data.frame'"
      ],
      "text/latex": [
       "'data.frame'"
      ],
      "text/markdown": [
       "'data.frame'"
      ],
      "text/plain": [
       "[1] \"data.frame\""
      ]
     },
     "metadata": {},
     "output_type": "display_data"
    }
   ],
   "source": [
    "class(training_data_raw)"
   ]
  },
  {
   "cell_type": "code",
   "execution_count": 13,
   "metadata": {},
   "outputs": [
    {
     "data": {
      "text/html": [
       "<table>\n",
       "<thead><tr><th scope=col>PassengerId</th><th scope=col>Survived</th><th scope=col>Pclass</th><th scope=col>Name</th><th scope=col>Sex</th><th scope=col>Age</th><th scope=col>SibSp</th><th scope=col>Parch</th><th scope=col>Ticket</th><th scope=col>Fare</th><th scope=col>Cabin</th><th scope=col>Embarked</th></tr></thead>\n",
       "<tbody>\n",
       "\t<tr><td>1                      </td><td>0                      </td><td>3                      </td><td>Braund, Mr. Owen Harris</td><td>male                   </td><td>22                     </td><td>1                      </td><td>0                      </td><td>A/5 21171              </td><td>7.25                   </td><td>NA                     </td><td>S                      </td></tr>\n",
       "</tbody>\n",
       "</table>\n"
      ],
      "text/latex": [
       "\\begin{tabular}{r|llllllllllll}\n",
       " PassengerId & Survived & Pclass & Name & Sex & Age & SibSp & Parch & Ticket & Fare & Cabin & Embarked\\\\\n",
       "\\hline\n",
       "\t 1                       & 0                       & 3                       & Braund, Mr. Owen Harris & male                    & 22                      & 1                       & 0                       & A/5 21171               & 7.25                    & NA                      & S                      \\\\\n",
       "\\end{tabular}\n"
      ],
      "text/markdown": [
       "\n",
       "PassengerId | Survived | Pclass | Name | Sex | Age | SibSp | Parch | Ticket | Fare | Cabin | Embarked | \n",
       "|---|\n",
       "| 1                       | 0                       | 3                       | Braund, Mr. Owen Harris | male                    | 22                      | 1                       | 0                       | A/5 21171               | 7.25                    | NA                      | S                       | \n",
       "\n",
       "\n"
      ],
      "text/plain": [
       "  PassengerId Survived Pclass Name                    Sex  Age SibSp Parch\n",
       "1 1           0        3      Braund, Mr. Owen Harris male 22  1     0    \n",
       "  Ticket    Fare Cabin Embarked\n",
       "1 A/5 21171 7.25 NA    S       "
      ]
     },
     "metadata": {},
     "output_type": "display_data"
    }
   ],
   "source": [
    "training_data_raw[1,]"
   ]
  },
  {
   "cell_type": "code",
   "execution_count": 4,
   "metadata": {},
   "outputs": [
    {
     "data": {
      "text/html": [
       "<dl class=dl-horizontal>\n",
       "\t<dt>PassengerId</dt>\n",
       "\t\t<dd>0</dd>\n",
       "\t<dt>Survived</dt>\n",
       "\t\t<dd>0</dd>\n",
       "\t<dt>Pclass</dt>\n",
       "\t\t<dd>0</dd>\n",
       "\t<dt>Name</dt>\n",
       "\t\t<dd>0</dd>\n",
       "\t<dt>Sex</dt>\n",
       "\t\t<dd>0</dd>\n",
       "\t<dt>Age</dt>\n",
       "\t\t<dd>177</dd>\n",
       "\t<dt>SibSp</dt>\n",
       "\t\t<dd>0</dd>\n",
       "\t<dt>Parch</dt>\n",
       "\t\t<dd>0</dd>\n",
       "\t<dt>Ticket</dt>\n",
       "\t\t<dd>0</dd>\n",
       "\t<dt>Fare</dt>\n",
       "\t\t<dd>0</dd>\n",
       "\t<dt>Cabin</dt>\n",
       "\t\t<dd>687</dd>\n",
       "\t<dt>Embarked</dt>\n",
       "\t\t<dd>2</dd>\n",
       "</dl>\n"
      ],
      "text/latex": [
       "\\begin{description*}\n",
       "\\item[PassengerId] 0\n",
       "\\item[Survived] 0\n",
       "\\item[Pclass] 0\n",
       "\\item[Name] 0\n",
       "\\item[Sex] 0\n",
       "\\item[Age] 177\n",
       "\\item[SibSp] 0\n",
       "\\item[Parch] 0\n",
       "\\item[Ticket] 0\n",
       "\\item[Fare] 0\n",
       "\\item[Cabin] 687\n",
       "\\item[Embarked] 2\n",
       "\\end{description*}\n"
      ],
      "text/markdown": [
       "PassengerId\n",
       ":   0Survived\n",
       ":   0Pclass\n",
       ":   0Name\n",
       ":   0Sex\n",
       ":   0Age\n",
       ":   177SibSp\n",
       ":   0Parch\n",
       ":   0Ticket\n",
       ":   0Fare\n",
       ":   0Cabin\n",
       ":   687Embarked\n",
       ":   2\n",
       "\n"
      ],
      "text/plain": [
       "PassengerId    Survived      Pclass        Name         Sex         Age \n",
       "          0           0           0           0           0         177 \n",
       "      SibSp       Parch      Ticket        Fare       Cabin    Embarked \n",
       "          0           0           0           0         687           2 "
      ]
     },
     "metadata": {},
     "output_type": "display_data"
    }
   ],
   "source": [
    "sapply(training_data_raw,function(x) sum(is.na(x))) # 空值"
   ]
  },
  {
   "cell_type": "code",
   "execution_count": 5,
   "metadata": {},
   "outputs": [
    {
     "data": {
      "text/html": [
       "<dl class=dl-horizontal>\n",
       "\t<dt>PassengerId</dt>\n",
       "\t\t<dd>891</dd>\n",
       "\t<dt>Survived</dt>\n",
       "\t\t<dd>2</dd>\n",
       "\t<dt>Pclass</dt>\n",
       "\t\t<dd>3</dd>\n",
       "\t<dt>Name</dt>\n",
       "\t\t<dd>891</dd>\n",
       "\t<dt>Sex</dt>\n",
       "\t\t<dd>2</dd>\n",
       "\t<dt>Age</dt>\n",
       "\t\t<dd>89</dd>\n",
       "\t<dt>SibSp</dt>\n",
       "\t\t<dd>7</dd>\n",
       "\t<dt>Parch</dt>\n",
       "\t\t<dd>7</dd>\n",
       "\t<dt>Ticket</dt>\n",
       "\t\t<dd>681</dd>\n",
       "\t<dt>Fare</dt>\n",
       "\t\t<dd>248</dd>\n",
       "\t<dt>Cabin</dt>\n",
       "\t\t<dd>148</dd>\n",
       "\t<dt>Embarked</dt>\n",
       "\t\t<dd>4</dd>\n",
       "</dl>\n"
      ],
      "text/latex": [
       "\\begin{description*}\n",
       "\\item[PassengerId] 891\n",
       "\\item[Survived] 2\n",
       "\\item[Pclass] 3\n",
       "\\item[Name] 891\n",
       "\\item[Sex] 2\n",
       "\\item[Age] 89\n",
       "\\item[SibSp] 7\n",
       "\\item[Parch] 7\n",
       "\\item[Ticket] 681\n",
       "\\item[Fare] 248\n",
       "\\item[Cabin] 148\n",
       "\\item[Embarked] 4\n",
       "\\end{description*}\n"
      ],
      "text/markdown": [
       "PassengerId\n",
       ":   891Survived\n",
       ":   2Pclass\n",
       ":   3Name\n",
       ":   891Sex\n",
       ":   2Age\n",
       ":   89SibSp\n",
       ":   7Parch\n",
       ":   7Ticket\n",
       ":   681Fare\n",
       ":   248Cabin\n",
       ":   148Embarked\n",
       ":   4\n",
       "\n"
      ],
      "text/plain": [
       "PassengerId    Survived      Pclass        Name         Sex         Age \n",
       "        891           2           3         891           2          89 \n",
       "      SibSp       Parch      Ticket        Fare       Cabin    Embarked \n",
       "          7           7         681         248         148           4 "
      ]
     },
     "metadata": {},
     "output_type": "display_data"
    }
   ],
   "source": [
    "sapply(training_data_raw, function(x) length(unique(x)))"
   ]
  },
  {
   "cell_type": "code",
   "execution_count": 7,
   "metadata": {},
   "outputs": [
    {
     "name": "stderr",
     "output_type": "stream",
     "text": [
      "also installing the dependency 'RcppArmadillo'\n",
      "\n"
     ]
    },
    {
     "name": "stdout",
     "output_type": "stream",
     "text": [
      "package 'RcppArmadillo' successfully unpacked and MD5 sums checked\n",
      "package 'Amelia' successfully unpacked and MD5 sums checked\n",
      "\n",
      "The downloaded binary packages are in\n",
      "\tC:\\Users\\k\\AppData\\Local\\Temp\\Rtmpkt2pl8\\downloaded_packages\n"
     ]
    },
    {
     "name": "stderr",
     "output_type": "stream",
     "text": [
      "Loading required package: Rcpp\n",
      "## \n",
      "## Amelia II: Multiple Imputation\n",
      "## (Version 1.7.4, built: 2015-12-05)\n",
      "## Copyright (C) 2005-2018 James Honaker, Gary King and Matthew Blackwell\n",
      "## Refer to http://gking.harvard.edu/amelia/ for more information\n",
      "## \n"
     ]
    },
    {
     "data": {
      "image/png": "[encoded data removed]",
      "text/plain": [
       "Plot with title \"Missing values vs observed\""
      ]
     },
     "metadata": {},
     "output_type": "display_data"
    }
   ],
   "source": [
    "install.packages('Amelia')\n",
    "library(Amelia)\n",
    "missmap(training_data_raw, main = \"Missing values vs observed\")"
   ]
  },
  {
   "cell_type": "markdown",
   "metadata": {},
   "source": [
    "The variable cabin has too many missing values, we will not use it. We will also drop PassengerId since it is only an index and Ticket.\n",
    "Using the subset() function we subset the original dataset selecting the relevant columns only.\n",
    "\n"
   ]
  },
  {
   "cell_type": "code",
   "execution_count": 14,
   "metadata": {},
   "outputs": [
    {
     "data": {
      "text/html": [
       "<table>\n",
       "<thead><tr><th scope=col>PassengerId</th><th scope=col>Survived</th><th scope=col>Pclass</th><th scope=col>Name</th><th scope=col>Sex</th><th scope=col>Age</th><th scope=col>SibSp</th><th scope=col>Parch</th><th scope=col>Ticket</th><th scope=col>Fare</th><th scope=col>Cabin</th><th scope=col>Embarked</th></tr></thead>\n",
       "<tbody>\n",
       "\t<tr><td>1                      </td><td>0                      </td><td>3                      </td><td>Braund, Mr. Owen Harris</td><td>male                   </td><td>22                     </td><td>1                      </td><td>0                      </td><td>A/5 21171              </td><td>7.25                   </td><td>NA                     </td><td>S                      </td></tr>\n",
       "</tbody>\n",
       "</table>\n"
      ],
      "text/latex": [
       "\\begin{tabular}{r|llllllllllll}\n",
       " PassengerId & Survived & Pclass & Name & Sex & Age & SibSp & Parch & Ticket & Fare & Cabin & Embarked\\\\\n",
       "\\hline\n",
       "\t 1                       & 0                       & 3                       & Braund, Mr. Owen Harris & male                    & 22                      & 1                       & 0                       & A/5 21171               & 7.25                    & NA                      & S                      \\\\\n",
       "\\end{tabular}\n"
      ],
      "text/markdown": [
       "\n",
       "PassengerId | Survived | Pclass | Name | Sex | Age | SibSp | Parch | Ticket | Fare | Cabin | Embarked | \n",
       "|---|\n",
       "| 1                       | 0                       | 3                       | Braund, Mr. Owen Harris | male                    | 22                      | 1                       | 0                       | A/5 21171               | 7.25                    | NA                      | S                       | \n",
       "\n",
       "\n"
      ],
      "text/plain": [
       "  PassengerId Survived Pclass Name                    Sex  Age SibSp Parch\n",
       "1 1           0        3      Braund, Mr. Owen Harris male 22  1     0    \n",
       "  Ticket    Fare Cabin Embarked\n",
       "1 A/5 21171 7.25 NA    S       "
      ]
     },
     "metadata": {},
     "output_type": "display_data"
    }
   ],
   "source": [
    "training_data_raw[1,]"
   ]
  },
  {
   "cell_type": "code",
   "execution_count": 8,
   "metadata": {},
   "outputs": [],
   "source": [
    "data <- subset(training_data_raw,select=c(2,3,5,6,7,8,10,12))"
   ]
  },
  {
   "cell_type": "markdown",
   "metadata": {},
   "source": [
    "Now we need to account for the other missing values. R can easily deal with them when fitting a generalized linear model by setting a parameter inside the fitting function. However, personally I prefer to replace the NAs “by hand”, when is possible. There are different ways to do this, a typical approach is to replace the missing values with the average, the median or the mode of the existing one. I’ll be using the average."
   ]
  },
  {
   "cell_type": "code",
   "execution_count": 15,
   "metadata": {},
   "outputs": [],
   "source": [
    "data$Age[is.na(data$Age)] <- mean(data$Age,na.rm=T)# 计算非空值的平均值然后赋值给空值"
   ]
  },
  {
   "cell_type": "markdown",
   "metadata": {},
   "source": [
    "As far as categorical variables are concerned, using the read.table() or read.csv() by default will encode the categorical variables as factors. A factor is how R deals categorical variables.\n",
    "We can check the encoding using the following lines of code\n",
    "\n"
   ]
  },
  {
   "cell_type": "code",
   "execution_count": 16,
   "metadata": {},
   "outputs": [
    {
     "data": {
      "text/html": [
       "TRUE"
      ],
      "text/latex": [
       "TRUE"
      ],
      "text/markdown": [
       "TRUE"
      ],
      "text/plain": [
       "[1] TRUE"
      ]
     },
     "metadata": {},
     "output_type": "display_data"
    }
   ],
   "source": [
    "is.factor(data$Sex)"
   ]
  },
  {
   "cell_type": "code",
   "execution_count": 17,
   "metadata": {},
   "outputs": [
    {
     "data": {
      "text/html": [
       "TRUE"
      ],
      "text/latex": [
       "TRUE"
      ],
      "text/markdown": [
       "TRUE"
      ],
      "text/plain": [
       "[1] TRUE"
      ]
     },
     "metadata": {},
     "output_type": "display_data"
    }
   ],
   "source": [
    "is.factor(data$Embarked)"
   ]
  },
  {
   "cell_type": "markdown",
   "metadata": {},
   "source": [
    "For a better understanding of how R is going to deal with the categorical variables, we can use the contrasts() function. This function will show us how the variables have been dummyfied by R and how to interpret them in a model."
   ]
  },
  {
   "cell_type": "code",
   "execution_count": 18,
   "metadata": {},
   "outputs": [
    {
     "data": {
      "text/html": [
       "<table>\n",
       "<thead><tr><th></th><th scope=col>male</th></tr></thead>\n",
       "<tbody>\n",
       "\t<tr><th scope=row>female</th><td>0</td></tr>\n",
       "\t<tr><th scope=row>male</th><td>1</td></tr>\n",
       "</tbody>\n",
       "</table>\n"
      ],
      "text/latex": [
       "\\begin{tabular}{r|l}\n",
       "  & male\\\\\n",
       "\\hline\n",
       "\tfemale & 0\\\\\n",
       "\tmale & 1\\\\\n",
       "\\end{tabular}\n"
      ],
      "text/markdown": [
       "\n",
       "| <!--/--> | male | \n",
       "|---|---|\n",
       "| female | 0 | \n",
       "| male | 1 | \n",
       "\n",
       "\n"
      ],
      "text/plain": [
       "       male\n",
       "female 0   \n",
       "male   1   "
      ]
     },
     "metadata": {},
     "output_type": "display_data"
    }
   ],
   "source": [
    "contrasts(data$Sex)"
   ]
  },
  {
   "cell_type": "code",
   "execution_count": 19,
   "metadata": {},
   "outputs": [
    {
     "data": {
      "text/html": [
       "<table>\n",
       "<thead><tr><th></th><th scope=col>Q</th><th scope=col>S</th></tr></thead>\n",
       "<tbody>\n",
       "\t<tr><th scope=row>C</th><td>0</td><td>0</td></tr>\n",
       "\t<tr><th scope=row>Q</th><td>1</td><td>0</td></tr>\n",
       "\t<tr><th scope=row>S</th><td>0</td><td>1</td></tr>\n",
       "</tbody>\n",
       "</table>\n"
      ],
      "text/latex": [
       "\\begin{tabular}{r|ll}\n",
       "  & Q & S\\\\\n",
       "\\hline\n",
       "\tC & 0 & 0\\\\\n",
       "\tQ & 1 & 0\\\\\n",
       "\tS & 0 & 1\\\\\n",
       "\\end{tabular}\n"
      ],
      "text/markdown": [
       "\n",
       "| <!--/--> | Q | S | \n",
       "|---|---|---|\n",
       "| C | 0 | 0 | \n",
       "| Q | 1 | 0 | \n",
       "| S | 0 | 1 | \n",
       "\n",
       "\n"
      ],
      "text/plain": [
       "  Q S\n",
       "C 0 0\n",
       "Q 1 0\n",
       "S 0 1"
      ]
     },
     "metadata": {},
     "output_type": "display_data"
    }
   ],
   "source": [
    "contrasts(data$Embarked)"
   ]
  },
  {
   "cell_type": "markdown",
   "metadata": {},
   "source": [
    "For instance, you can see that in the variable sex, female will be used as the reference. As for the missing values in Embarked, since there are only two, we will discard those two rows (we could also have replaced the missing values with the mode and keep the datapoints)"
   ]
  },
  {
   "cell_type": "code",
   "execution_count": 20,
   "metadata": {},
   "outputs": [],
   "source": [
    "data <- data[!is.na(data$Embarked),]\n",
    "rownames(data) <- NULL"
   ]
  },
  {
   "cell_type": "markdown",
   "metadata": {},
   "source": [
    "Before proceeding to the fitting process, let me remind you how important is cleaning and formatting of the data. This preprocessing step often is crucial for obtaining a good fit of the model and better predictive ability."
   ]
  },
  {
   "cell_type": "code",
   "execution_count": 21,
   "metadata": {},
   "outputs": [],
   "source": [
    "train <- data[1:800,]\n",
    "test <- data[801:889,]"
   ]
  },
  {
   "cell_type": "code",
   "execution_count": 22,
   "metadata": {},
   "outputs": [],
   "source": [
    "model <- glm(Survived ~.,family=binomial(link='logit'),data=train)"
   ]
  },
  {
   "cell_type": "code",
   "execution_count": 23,
   "metadata": {},
   "outputs": [
    {
     "data": {
      "text/plain": [
       "\n",
       "Call:\n",
       "glm(formula = Survived ~ ., family = binomial(link = \"logit\"), \n",
       "    data = train)\n",
       "\n",
       "Deviance Residuals: \n",
       "    Min       1Q   Median       3Q      Max  \n",
       "-2.6064  -0.5954  -0.4254   0.6220   2.4165  \n",
       "\n",
       "Coefficients:\n",
       "             Estimate Std. Error z value Pr(>|z|)    \n",
       "(Intercept)  5.137627   0.594998   8.635  < 2e-16 ***\n",
       "Pclass      -1.087156   0.151168  -7.192 6.40e-13 ***\n",
       "Sexmale     -2.756819   0.212026 -13.002  < 2e-16 ***\n",
       "Age         -0.037267   0.008195  -4.547 5.43e-06 ***\n",
       "SibSp       -0.292920   0.114642  -2.555   0.0106 *  \n",
       "Parch       -0.116576   0.128127  -0.910   0.3629    \n",
       "Fare         0.001528   0.002353   0.649   0.5160    \n",
       "EmbarkedQ   -0.002656   0.400882  -0.007   0.9947    \n",
       "EmbarkedS   -0.318786   0.252960  -1.260   0.2076    \n",
       "---\n",
       "Signif. codes:  0 '***' 0.001 '**' 0.01 '*' 0.05 '.' 0.1 ' ' 1\n",
       "\n",
       "(Dispersion parameter for binomial family taken to be 1)\n",
       "\n",
       "    Null deviance: 1065.39  on 799  degrees of freedom\n",
       "Residual deviance:  709.39  on 791  degrees of freedom\n",
       "AIC: 727.39\n",
       "\n",
       "Number of Fisher Scoring iterations: 5\n"
      ]
     },
     "metadata": {},
     "output_type": "display_data"
    }
   ],
   "source": [
    "summary(model)"
   ]
  },
  {
   "cell_type": "markdown",
   "metadata": {},
   "source": [
    "Now we can analyze the fitting and interpret what the model is telling us.\n",
    "First of all, we can see that SibSp, Fare and Embarked are not statistically significant. As for the statistically significant variables, sex has the lowest p-value suggesting a strong association of the sex of the passenger with the probability of having survived. The negative coefficient for this predictor suggests that all other variables being equal, the male passenger is less likely to have survived. Remember that in the logit model the response variable is log odds: ln(odds) = ln(p/(1-p)) = a*x1 + b*x2 + … + z*xn. Since male is a dummy variable, being male reduces the log odds by 2.75 while a unit increase in age reduces the log odds by 0.037."
   ]
  },
  {
   "cell_type": "markdown",
   "metadata": {},
   "source": [
    "Now we can run the anova() function on the model to analyze the table of deviance"
   ]
  },
  {
   "cell_type": "code",
   "execution_count": 24,
   "metadata": {},
   "outputs": [
    {
     "data": {
      "text/html": [
       "<table>\n",
       "<thead><tr><th></th><th scope=col>Df</th><th scope=col>Deviance</th><th scope=col>Resid. Df</th><th scope=col>Resid. Dev</th><th scope=col>Pr(&gt;Chi)</th></tr></thead>\n",
       "<tbody>\n",
       "\t<tr><th scope=row>NULL</th><td>NA          </td><td>         NA </td><td>799         </td><td>1065.3922   </td><td>          NA</td></tr>\n",
       "\t<tr><th scope=row>Pclass</th><td> 1          </td><td> 83.6069449 </td><td>798         </td><td> 981.7853   </td><td>6.036064e-20</td></tr>\n",
       "\t<tr><th scope=row>Sex</th><td> 1          </td><td>240.0135513 </td><td>797         </td><td> 741.7717   </td><td>3.906166e-54</td></tr>\n",
       "\t<tr><th scope=row>Age</th><td> 1          </td><td> 17.4946765 </td><td>796         </td><td> 724.2770   </td><td>2.881133e-05</td></tr>\n",
       "\t<tr><th scope=row>SibSp</th><td> 1          </td><td> 10.8423921 </td><td>795         </td><td> 713.4346   </td><td>9.920249e-04</td></tr>\n",
       "\t<tr><th scope=row>Parch</th><td> 1          </td><td>  0.8630972 </td><td>794         </td><td> 712.5715   </td><td>3.528734e-01</td></tr>\n",
       "\t<tr><th scope=row>Fare</th><td> 1          </td><td>  0.9942053 </td><td>793         </td><td> 711.5773   </td><td>3.187167e-01</td></tr>\n",
       "\t<tr><th scope=row>Embarked</th><td> 2          </td><td>  2.1873120 </td><td>791         </td><td> 709.3900   </td><td>3.349895e-01</td></tr>\n",
       "</tbody>\n",
       "</table>\n"
      ],
      "text/latex": [
       "\\begin{tabular}{r|lllll}\n",
       "  & Df & Deviance & Resid. Df & Resid. Dev & Pr(>Chi)\\\\\n",
       "\\hline\n",
       "\tNULL & NA           &          NA  & 799          & 1065.3922    &           NA\\\\\n",
       "\tPclass &  1           &  83.6069449  & 798          &  981.7853    & 6.036064e-20\\\\\n",
       "\tSex &  1           & 240.0135513  & 797          &  741.7717    & 3.906166e-54\\\\\n",
       "\tAge &  1           &  17.4946765  & 796          &  724.2770    & 2.881133e-05\\\\\n",
       "\tSibSp &  1           &  10.8423921  & 795          &  713.4346    & 9.920249e-04\\\\\n",
       "\tParch &  1           &   0.8630972  & 794          &  712.5715    & 3.528734e-01\\\\\n",
       "\tFare &  1           &   0.9942053  & 793          &  711.5773    & 3.187167e-01\\\\\n",
       "\tEmbarked &  2           &   2.1873120  & 791          &  709.3900    & 3.349895e-01\\\\\n",
       "\\end{tabular}\n"
      ],
      "text/markdown": [
       "\n",
       "| <!--/--> | Df | Deviance | Resid. Df | Resid. Dev | Pr(>Chi) | \n",
       "|---|---|---|---|---|---|---|---|\n",
       "| NULL | NA           |          NA  | 799          | 1065.3922    |           NA | \n",
       "| Pclass |  1           |  83.6069449  | 798          |  981.7853    | 6.036064e-20 | \n",
       "| Sex |  1           | 240.0135513  | 797          |  741.7717    | 3.906166e-54 | \n",
       "| Age |  1           |  17.4946765  | 796          |  724.2770    | 2.881133e-05 | \n",
       "| SibSp |  1           |  10.8423921  | 795          |  713.4346    | 9.920249e-04 | \n",
       "| Parch |  1           |   0.8630972  | 794          |  712.5715    | 3.528734e-01 | \n",
       "| Fare |  1           |   0.9942053  | 793          |  711.5773    | 3.187167e-01 | \n",
       "| Embarked |  2           |   2.1873120  | 791          |  709.3900    | 3.349895e-01 | \n",
       "\n",
       "\n"
      ],
      "text/plain": [
       "         Df Deviance    Resid. Df Resid. Dev Pr(>Chi)    \n",
       "NULL     NA          NA 799       1065.3922            NA\n",
       "Pclass    1  83.6069449 798        981.7853  6.036064e-20\n",
       "Sex       1 240.0135513 797        741.7717  3.906166e-54\n",
       "Age       1  17.4946765 796        724.2770  2.881133e-05\n",
       "SibSp     1  10.8423921 795        713.4346  9.920249e-04\n",
       "Parch     1   0.8630972 794        712.5715  3.528734e-01\n",
       "Fare      1   0.9942053 793        711.5773  3.187167e-01\n",
       "Embarked  2   2.1873120 791        709.3900  3.349895e-01"
      ]
     },
     "metadata": {},
     "output_type": "display_data"
    }
   ],
   "source": [
    "anova(model, test=\"Chisq\")"
   ]
  },
  {
   "cell_type": "markdown",
   "metadata": {},
   "source": [
    "The difference between the null deviance and the residual deviance shows how our model is doing against the null model (a model with only the intercept). The wider this gap, the better. Analyzing the table we can see the drop in deviance when adding each variable one at a time. Again, adding Pclass, Sex and Age significantly reduces the residual deviance. The other variables seem to improve the model less even though SibSp has a low p-value. A large p-value here indicates that the model without the variable explains more or less the same amount of variation. Ultimately what you would like to see is a significant drop in deviance and the AIC."
   ]
  },
  {
   "cell_type": "markdown",
   "metadata": {},
   "source": [
    "While no exact equivalent to the R2 of linear regression exists, the McFadden R2 index can be used to assess the model fit."
   ]
  },
  {
   "cell_type": "code",
   "execution_count": 25,
   "metadata": {},
   "outputs": [
    {
     "name": "stdout",
     "output_type": "stream",
     "text": [
      "package 'pscl' successfully unpacked and MD5 sums checked\n",
      "\n",
      "The downloaded binary packages are in\n",
      "\tC:\\Users\\k\\AppData\\Local\\Temp\\Rtmpkt2pl8\\downloaded_packages\n"
     ]
    },
    {
     "name": "stderr",
     "output_type": "stream",
     "text": [
      "Classes and Methods for R developed in the\n",
      "Political Science Computational Laboratory\n",
      "Department of Political Science\n",
      "Stanford University\n",
      "Simon Jackman\n",
      "hurdle and zeroinfl functions by Achim Zeileis\n"
     ]
    },
    {
     "data": {
      "text/html": [
       "<dl class=dl-horizontal>\n",
       "\t<dt>llh</dt>\n",
       "\t\t<dd>-354.695011140774</dd>\n",
       "\t<dt>llhNull</dt>\n",
       "\t\t<dd>-532.696100822026</dd>\n",
       "\t<dt>G2</dt>\n",
       "\t\t<dd>356.002179362505</dd>\n",
       "\t<dt>McFadden</dt>\n",
       "\t\t<dd>0.334151290776432</dd>\n",
       "\t<dt>r2ML</dt>\n",
       "\t\t<dd>0.359177469700802</dd>\n",
       "\t<dt>r2CU</dt>\n",
       "\t\t<dd>0.488024406926723</dd>\n",
       "</dl>\n"
      ],
      "text/latex": [
       "\\begin{description*}\n",
       "\\item[llh] -354.695011140774\n",
       "\\item[llhNull] -532.696100822026\n",
       "\\item[G2] 356.002179362505\n",
       "\\item[McFadden] 0.334151290776432\n",
       "\\item[r2ML] 0.359177469700802\n",
       "\\item[r2CU] 0.488024406926723\n",
       "\\end{description*}\n"
      ],
      "text/markdown": [
       "llh\n",
       ":   -354.695011140774llhNull\n",
       ":   -532.696100822026G2\n",
       ":   356.002179362505McFadden\n",
       ":   0.334151290776432r2ML\n",
       ":   0.359177469700802r2CU\n",
       ":   0.488024406926723\n",
       "\n"
      ],
      "text/plain": [
       "         llh      llhNull           G2     McFadden         r2ML         r2CU \n",
       "-354.6950111 -532.6961008  356.0021794    0.3341513    0.3591775    0.4880244 "
      ]
     },
     "metadata": {},
     "output_type": "display_data"
    }
   ],
   "source": [
    "install.packages('pscl')\n",
    "library(pscl)\n",
    "pR2(model)"
   ]
  },
  {
   "cell_type": "markdown",
   "metadata": {},
   "source": [
    " By setting the parameter type='response', R will output probabilities in the form of P(y=1|X). Our decision boundary will be 0.5. If P(y=1|X) > 0.5 then y = 1 otherwise y=0. Note that for some applications different thresholds could be a better option."
   ]
  },
  {
   "cell_type": "code",
   "execution_count": 26,
   "metadata": {},
   "outputs": [],
   "source": [
    "fitted.results <- predict(model,newdata=subset(test,select=c(2,3,4,5,6,7,8)),type='response')"
   ]
  },
  {
   "cell_type": "code",
   "execution_count": 27,
   "metadata": {},
   "outputs": [
    {
     "name": "stdout",
     "output_type": "stream",
     "text": [
      "[1] \"Accuracy 0.842696629213483\"\n"
     ]
    }
   ],
   "source": [
    "fitted.results <- ifelse(fitted.results > 0.5,1,0)\n",
    "misClasificError <- mean(fitted.results != test$Survived)\n",
    "print(paste('Accuracy',1-misClasificError))"
   ]
  },
  {
   "cell_type": "markdown",
   "metadata": {},
   "source": [
    "The 0.84 accuracy on the test set is quite a good result. However, keep in mind that this result is somewhat dependent on the manual split of the data that I made earlier, therefore if you wish for a more precise score, you would be better off running some kind of cross validation such as k-fold cross validation."
   ]
  },
  {
   "cell_type": "markdown",
   "metadata": {},
   "source": [
    "As a last step, we are going to plot the ROC curve and calculate the AUC (area under the curve) which are typical performance measurements for a binary classifier.    \n",
    "The ROC is a curve generated by plotting the true positive rate (TPR) against the false positive rate (FPR) at various threshold settings while the AUC is the area under the ROC curve. As a rule of thumb, a model with good predictive ability should have an AUC closer to 1 (1 is ideal) than to 0.5."
   ]
  },
  {
   "cell_type": "markdown",
   "metadata": {},
   "source": [
    "R语言的包太杂了...一个lr都要装这么多包..."
   ]
  },
  {
   "cell_type": "code",
   "execution_count": 28,
   "metadata": {},
   "outputs": [
    {
     "name": "stdout",
     "output_type": "stream",
     "text": [
      "package 'ROCR' successfully unpacked and MD5 sums checked\n",
      "\n",
      "The downloaded binary packages are in\n",
      "\tC:\\Users\\k\\AppData\\Local\\Temp\\Rtmpkt2pl8\\downloaded_packages\n"
     ]
    },
    {
     "name": "stderr",
     "output_type": "stream",
     "text": [
      "Loading required package: gplots\n",
      "\n",
      "Attaching package: 'gplots'\n",
      "\n",
      "The following object is masked from 'package:stats':\n",
      "\n",
      "    lowess\n",
      "\n"
     ]
    },
    {
     "data": {
      "image/png": "[encoded data removed]",
      "text/plain": [
       "plot without title"
      ]
     },
     "metadata": {},
     "output_type": "display_data"
    }
   ],
   "source": [
    "install.packages('ROCR')\n",
    "library(ROCR)\n",
    "p <- predict(model, newdata=subset(test,select=c(2,3,4,5,6,7,8)), type=\"response\")\n",
    "pr <- prediction(p, test$Survived)\n",
    "prf <- performance(pr, measure = \"tpr\", x.measure = \"fpr\")\n",
    "plot(prf)"
   ]
  },
  {
   "cell_type": "code",
   "execution_count": 29,
   "metadata": {},
   "outputs": [
    {
     "data": {
      "text/html": [
       "0.864718614718615"
      ],
      "text/latex": [
       "0.864718614718615"
      ],
      "text/markdown": [
       "0.864718614718615"
      ],
      "text/plain": [
       "[1] 0.8647186"
      ]
     },
     "metadata": {},
     "output_type": "display_data"
    }
   ],
   "source": [
    "auc <- performance(pr, measure = \"auc\")\n",
    "auc <- auc@y.values[[1]]\n",
    "auc"
   ]
  },
  {
   "cell_type": "code",
   "execution_count": null,
   "metadata": {},
   "outputs": [],
   "source": []
  }
 ],
 "metadata": {
  "kernelspec": {
   "display_name": "R",
   "language": "R",
   "name": "ir"
  },
  "language_info": {
   "codemirror_mode": "r",
   "file_extension": ".r",
   "mimetype": "text/x-r-source",
   "name": "R",
   "pygments_lexer": "r",
   "version": "3.4.3"
  }
 },
 "nbformat": 4,
 "nbformat_minor": 2
}
