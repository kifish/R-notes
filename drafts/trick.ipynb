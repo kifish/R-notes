{
 "cells": [
  {
   "cell_type": "markdown",
   "metadata": {},
   "source": [
    "%>% 是管道符号\n",
    "举例:   \n",
    "f1() %>% f2()      \n",
    "相当于把f1()的输出作为f2()的输入"
   ]
  },
  {
   "cell_type": "markdown",
   "metadata": {},
   "source": [
    "获取帮助信息 \n",
    "?print # 在RStudio右侧打开相关帮助界面 \n",
    "example(print) \n",
    "?quantmod # 打开扩展包整体帮助信息 \n",
    "apropos(“print*”) # 在搜索路径下查找满足正则表达式的所有函数信息 \n",
    "demo(graphics) \n",
    "当然得需要有一定的英文水平，不过不怎么懂英文也可以安装金山词霸等翻译软件翻译。"
   ]
  },
  {
   "cell_type": "code",
   "execution_count": null,
   "metadata": {},
   "outputs": [],
   "source": []
  }
 ],
 "metadata": {
  "kernelspec": {
   "display_name": "R",
   "language": "R",
   "name": "ir"
  },
  "language_info": {
   "codemirror_mode": "r",
   "file_extension": ".r",
   "mimetype": "text/x-r-source",
   "name": "R",
   "pygments_lexer": "r",
   "version": "3.4.3"
  }
 },
 "nbformat": 4,
 "nbformat_minor": 2
}
