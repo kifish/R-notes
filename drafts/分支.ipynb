{
 "cells": [
  {
   "cell_type": "markdown",
   "metadata": {},
   "source": [
    "分支"
   ]
  },
  {
   "cell_type": "code",
   "execution_count": 36,
   "metadata": {},
   "outputs": [
    {
     "name": "stdout",
     "output_type": "stream",
     "text": [
      "[1] \"a==1\"\n"
     ]
    }
   ],
   "source": [
    "a <- 1 \n",
    "if(a==1) print('a==1') "
   ]
  },
  {
   "cell_type": "code",
   "execution_count": 37,
   "metadata": {},
   "outputs": [
    {
     "name": "stdout",
     "output_type": "stream",
     "text": [
      "[1] \"a==1\"\n"
     ]
    }
   ],
   "source": [
    "a <- 1 \n",
    "if(a==1)\n",
    "    print('a==1') "
   ]
  },
  {
   "cell_type": "code",
   "execution_count": 38,
   "metadata": {},
   "outputs": [
    {
     "name": "stdout",
     "output_type": "stream",
     "text": [
      "[1] \"a > 1\"\n"
     ]
    }
   ],
   "source": [
    "a <- 2 \n",
    "if(a > 1) print('a > 1') else print('a <= 1') "
   ]
  },
  {
   "cell_type": "code",
   "execution_count": 42,
   "metadata": {},
   "outputs": [
    {
     "name": "stdout",
     "output_type": "stream",
     "text": [
      "[1] \"a != 1\"\n"
     ]
    }
   ],
   "source": [
    "a <- 3 \n",
    "if( a == 1){ \n",
    "    print('a == 1') \n",
    "}else{ # 注意这里，else必须紧跟在上一个大括号后面\n",
    "    print('a != 1') \n",
    "} "
   ]
  },
  {
   "cell_type": "code",
   "execution_count": 46,
   "metadata": {},
   "outputs": [
    {
     "name": "stdout",
     "output_type": "stream",
     "text": [
      "[1] \"Not 1 & 2\"\n"
     ]
    }
   ],
   "source": [
    "a <- 4 \n",
    "if( a == 1){ \n",
    "    print('a == 1') \n",
    "}else if(a == 2){ \n",
    "    print('a == 2') \n",
    "}else{ \n",
    "    print('Not 1 & 2') \n",
    "} "
   ]
  },
  {
   "cell_type": "code",
   "execution_count": 47,
   "metadata": {},
   "outputs": [
    {
     "name": "stdout",
     "output_type": "stream",
     "text": [
      "[1] 3.1416\n"
     ]
    }
   ],
   "source": [
    "#ifelse()计算第一个逻辑表达式得到结果如果为T则返回第二个参数；否则返回第三个参数 \n",
    "a <- 2 \n",
    "print(ifelse(a > 1,3.1416,1.414) ) "
   ]
  },
  {
   "cell_type": "code",
   "execution_count": 49,
   "metadata": {},
   "outputs": [
    {
     "name": "stdout",
     "output_type": "stream",
     "text": [
      "[1] \"选项1\"\n"
     ]
    }
   ],
   "source": [
    "#switch语句的多重分支结构 \n",
    "n <- 1 \n",
    "switch(n, \n",
    "    print('选项1'), \n",
    "    print('选项2'), \n",
    "    print('选项3'), \n",
    "    print('选项4'), \n",
    "    print('选项5') \n",
    ")"
   ]
  },
  {
   "cell_type": "code",
   "execution_count": 50,
   "metadata": {},
   "outputs": [
    {
     "name": "stdout",
     "output_type": "stream",
     "text": [
      "1-100的累加和为： 5050 \n"
     ]
    }
   ],
   "source": [
    "#for 循环结构 \n",
    "iTotal <- 0 \n",
    "# 使用关键词in枚举向量中的每一整数\n",
    "for(i in 1:100){ \n",
    "iTotal <- iTotal + i \n",
    "} \n",
    "cat('1-100的累加和为：',iTotal,\"\\n\",sep=\" \") "
   ]
  },
  {
   "cell_type": "code",
   "execution_count": 52,
   "metadata": {},
   "outputs": [
    {
     "name": "stdout",
     "output_type": "stream",
     "text": [
      "MSFT \n",
      "GOOG \n",
      "AAPL \n",
      "INTL \n",
      "ORCL \n",
      "SYMC \n"
     ]
    }
   ],
   "source": [
    "# 字符串也同样可以成功枚举十分方便： \n",
    "szSymbols <- c('MSFT','GOOG','AAPL',\n",
    "               'INTL','ORCL','SYMC') \n",
    "for(SymbolName in szSymbols){ \n",
    "    cat(SymbolName,'\\n',sep=\" \") \n",
    "} "
   ]
  },
  {
   "cell_type": "code",
   "execution_count": 53,
   "metadata": {},
   "outputs": [
    {
     "name": "stdout",
     "output_type": "stream",
     "text": [
      "1-100的累加和为： 5050 \n"
     ]
    }
   ],
   "source": [
    "#while循环\n",
    "i <- 1 \n",
    "iTotal <- 0 \n",
    "while(i <= 100) { \n",
    "    iTotal <- iTotal + i \n",
    "    i <- i + 1 \n",
    "} \n",
    "cat('1-100的累加和为：',iTotal,'\\n',sep=\" \") "
   ]
  },
  {
   "cell_type": "code",
   "execution_count": 54,
   "metadata": {},
   "outputs": [
    {
     "name": "stdout",
     "output_type": "stream",
     "text": [
      "1-100的累加和为： 5050 \n"
     ]
    }
   ],
   "source": [
    "#repeat循环\n",
    "i <- 1 \n",
    "iTotal <- 0 \n",
    "# 无条件循环，必须在程序内部设法退出 \n",
    "repeat{ \n",
    "    iTotal <- iTotal + i \n",
    "    i <- i + 1\n",
    "    if(i <= 100) next else break # 注意：next,break的用法 \n",
    "} \n",
    "cat('1-100的累加和为：',iTotal,'\\n',sep=\" \")"
   ]
  },
  {
   "cell_type": "code",
   "execution_count": null,
   "metadata": {},
   "outputs": [],
   "source": [
    "# 自定义函数 \n",
    "pt <- function() { szCurTime <- as.character.Date(Sys.time()); options(prompt=paste(szCurTime,'>',sep=\" \")) } \n",
    "pt() \n",
    "# 这个自定义的函数可以把RStudio 的控制台尖括号变成当前时间加尖括号 "
   ]
  },
  {
   "cell_type": "code",
   "execution_count": 55,
   "metadata": {},
   "outputs": [
    {
     "name": "stdout",
     "output_type": "stream",
     "text": [
      "[1] 8\n",
      "[1] -2\n",
      "[1] 15\n",
      "[1] 0.6\n"
     ]
    }
   ],
   "source": [
    "# 定义自己的二元运算符，%anything%，两个百分号之间可以是任何字符串 \n",
    "# 定义二元运算符的过程和编写自定义函数本质相同 \n",
    "'%g%' <- function(x,y){ \n",
    "    print(x+y) \n",
    "    print(x-y) \n",
    "    print(x*y) \n",
    "    print(x/y) \n",
    "} \n",
    "3%g%5 "
   ]
  }
 ],
 "metadata": {
  "kernelspec": {
   "display_name": "R",
   "language": "R",
   "name": "ir"
  },
  "language_info": {
   "codemirror_mode": "r",
   "file_extension": ".r",
   "mimetype": "text/x-r-source",
   "name": "R",
   "pygments_lexer": "r",
   "version": "3.4.3"
  }
 },
 "nbformat": 4,
 "nbformat_minor": 2
}
