{
 "cells": [
  {
   "cell_type": "markdown",
   "metadata": {},
   "source": [
    "向量,矩阵,数组,dataframe,list"
   ]
  },
  {
   "cell_type": "code",
   "execution_count": 3,
   "metadata": {},
   "outputs": [
    {
     "name": "stdout",
     "output_type": "stream",
     "text": [
      " [1]  1  2  3  4  5  6  7  8  9 10\n"
     ]
    }
   ],
   "source": [
    "x <- 1:10;\n",
    "print(x) "
   ]
  },
  {
   "cell_type": "code",
   "execution_count": 4,
   "metadata": {},
   "outputs": [
    {
     "name": "stdout",
     "output_type": "stream",
     "text": [
      "[1] 1 2 3 4 5\n"
     ]
    }
   ],
   "source": [
    "x <- c(1,2,3,4,5);\n",
    "print(x) "
   ]
  },
  {
   "cell_type": "code",
   "execution_count": 5,
   "metadata": {},
   "outputs": [
    {
     "name": "stdout",
     "output_type": "stream",
     "text": [
      " [1]  1  2  3  4  5  6  7  8  9 10\n"
     ]
    }
   ],
   "source": [
    "x <- seq(from=1,to=10);\n",
    "print(x) "
   ]
  },
  {
   "cell_type": "code",
   "execution_count": 6,
   "metadata": {},
   "outputs": [
    {
     "name": "stdout",
     "output_type": "stream",
     "text": [
      "[1] 1 3 5 7 9\n"
     ]
    }
   ],
   "source": [
    "x <- seq(from=1,to=10,by=2);\n",
    "print(x) "
   ]
  },
  {
   "cell_type": "code",
   "execution_count": 8,
   "metadata": {},
   "outputs": [
    {
     "name": "stdout",
     "output_type": "stream",
     "text": [
      " [1]  1.000000  1.473684  1.947368  2.421053  2.894737  3.368421  3.842105\n",
      " [8]  4.315789  4.789474  5.263158  5.736842  6.210526  6.684211  7.157895\n",
      "[15]  7.631579  8.105263  8.578947  9.052632  9.526316 10.000000\n"
     ]
    }
   ],
   "source": [
    "x <- seq(from=1,to=10,length.out=20);\n",
    "print(x) "
   ]
  },
  {
   "cell_type": "code",
   "execution_count": 11,
   "metadata": {},
   "outputs": [
    {
     "name": "stdout",
     "output_type": "stream",
     "text": [
      " [1] \"2014-01-01\" \"2014-01-02\" \"2014-01-03\" \"2014-01-04\" \"2014-01-05\"\n",
      " [6] \"2014-01-06\" \"2014-01-07\" \"2014-01-08\" \"2014-01-09\" \"2014-01-10\"\n",
      "[11] \"2014-01-11\" \"2014-01-12\" \"2014-01-13\" \"2014-01-14\" \"2014-01-15\"\n",
      "[16] \"2014-01-16\" \"2014-01-17\" \"2014-01-18\" \"2014-01-19\" \"2014-01-20\"\n",
      "[21] \"2014-01-21\" \"2014-01-22\" \"2014-01-23\" \"2014-01-24\" \"2014-01-25\"\n",
      "[26] \"2014-01-26\" \"2014-01-27\" \"2014-01-28\" \"2014-01-29\" \"2014-01-30\"\n",
      "[31] \"2014-01-31\" \"2014-02-01\"\n",
      "[1] \"Date\"\n"
     ]
    }
   ],
   "source": [
    "# 生成日期变量并用生成的日期变量生成一组日期序列数据： \n",
    "s <- as.Date('2014-1-1') \n",
    "e <- as.Date('2014-2-1') \n",
    "dtVec <- seq(from=s,to=e,by=1) \n",
    "print(dtVec) \n",
    "print(class(dtVec)) "
   ]
  },
  {
   "cell_type": "code",
   "execution_count": 4,
   "metadata": {},
   "outputs": [
    {
     "data": {
      "text/html": [
       "<ol class=list-inline>\n",
       "\t<li>1</li>\n",
       "\t<li>1</li>\n",
       "\t<li>1</li>\n",
       "\t<li>1</li>\n",
       "\t<li>1</li>\n",
       "\t<li>2</li>\n",
       "\t<li>2</li>\n",
       "\t<li>2</li>\n",
       "\t<li>2</li>\n",
       "\t<li>2</li>\n",
       "</ol>\n"
      ],
      "text/latex": [
       "\\begin{enumerate*}\n",
       "\\item 1\n",
       "\\item 1\n",
       "\\item 1\n",
       "\\item 1\n",
       "\\item 1\n",
       "\\item 2\n",
       "\\item 2\n",
       "\\item 2\n",
       "\\item 2\n",
       "\\item 2\n",
       "\\end{enumerate*}\n"
      ],
      "text/markdown": [
       "1. 1\n",
       "2. 1\n",
       "3. 1\n",
       "4. 1\n",
       "5. 1\n",
       "6. 2\n",
       "7. 2\n",
       "8. 2\n",
       "9. 2\n",
       "10. 2\n",
       "\n",
       "\n"
      ],
      "text/plain": [
       " [1] 1 1 1 1 1 2 2 2 2 2\n",
       "Levels: 1 2"
      ]
     },
     "metadata": {},
     "output_type": "display_data"
    }
   ],
   "source": [
    "x = gl(2,5) #gl是一个函数\n",
    "x"
   ]
  },
  {
   "cell_type": "code",
   "execution_count": 5,
   "metadata": {},
   "outputs": [
    {
     "data": {
      "text/html": [
       "'factor'"
      ],
      "text/latex": [
       "'factor'"
      ],
      "text/markdown": [
       "'factor'"
      ],
      "text/plain": [
       "[1] \"factor\""
      ]
     },
     "metadata": {},
     "output_type": "display_data"
    }
   ],
   "source": [
    "class(x)"
   ]
  },
  {
   "cell_type": "code",
   "execution_count": 6,
   "metadata": {},
   "outputs": [
    {
     "data": {
      "text/html": [
       "'numeric'"
      ],
      "text/latex": [
       "'numeric'"
      ],
      "text/markdown": [
       "'numeric'"
      ],
      "text/plain": [
       "[1] \"numeric\""
      ]
     },
     "metadata": {},
     "output_type": "display_data"
    }
   ],
   "source": [
    "mode(x)"
   ]
  },
  {
   "cell_type": "code",
   "execution_count": 7,
   "metadata": {},
   "outputs": [
    {
     "data": {
      "text/html": [
       "'integer'"
      ],
      "text/latex": [
       "'integer'"
      ],
      "text/markdown": [
       "'integer'"
      ],
      "text/plain": [
       "[1] \"integer\""
      ]
     },
     "metadata": {},
     "output_type": "display_data"
    }
   ],
   "source": [
    "typeof(x)"
   ]
  },
  {
   "cell_type": "code",
   "execution_count": 1,
   "metadata": {},
   "outputs": [
    {
     "name": "stdout",
     "output_type": "stream",
     "text": [
      " [1]  1  2  3  4  5  6  7  8  9 10\n"
     ]
    }
   ],
   "source": [
    "x <- 1:10;\n",
    "print(x) "
   ]
  },
  {
   "cell_type": "code",
   "execution_count": 2,
   "metadata": {},
   "outputs": [
    {
     "name": "stdout",
     "output_type": "stream",
     "text": [
      "[1] 5\n",
      "[1]  1  2  3  4  6  7  8  9 10\n"
     ]
    }
   ],
   "source": [
    "# R语言中的索引从1开始\n",
    "print(x[5]) \n",
    "print(x[-5]) "
   ]
  },
  {
   "cell_type": "code",
   "execution_count": 3,
   "metadata": {},
   "outputs": [
    {
     "name": "stdout",
     "output_type": "stream",
     "text": [
      "[1] 1 5 8\n",
      "[1] 1 2 3 4 5\n"
     ]
    }
   ],
   "source": [
    "print(x[c(1,5,8)]) \n",
    "print(x[1:5]) "
   ]
  },
  {
   "cell_type": "code",
   "execution_count": 4,
   "metadata": {},
   "outputs": [
    {
     "name": "stdout",
     "output_type": "stream",
     "text": [
      "[1]  2  4  6  8 10\n"
     ]
    }
   ],
   "source": [
    "print(x[1:5*2]) # 冒号优先级更高，首先得到1-5这5个数据再乘以2 "
   ]
  },
  {
   "cell_type": "code",
   "execution_count": 5,
   "metadata": {},
   "outputs": [
    {
     "name": "stdout",
     "output_type": "stream",
     "text": [
      "[1]  6  7  8  9 10\n"
     ]
    }
   ],
   "source": [
    "print(x[ x > 5 ]) # 逻辑表达式用x中每一个元素计算逻辑表达式的值做索引，得到的是原数组中x大于5的元素 "
   ]
  },
  {
   "cell_type": "code",
   "execution_count": 6,
   "metadata": {},
   "outputs": [
    {
     "name": "stdout",
     "output_type": "stream",
     "text": [
      "[1] 5.5\n",
      "[1]  6  7  8  9 10\n"
     ]
    }
   ],
   "source": [
    "print(mean(x)) \n",
    "print(x[ x > mean(x) ] ) # 逻辑表达中可以使用函数 "
   ]
  },
  {
   "cell_type": "code",
   "execution_count": 7,
   "metadata": {},
   "outputs": [
    {
     "name": "stdout",
     "output_type": "stream",
     "text": [
      " A  B  C  D  E  F  G  H  I  J \n",
      " 1  2  3  4  5  6  7  8  9 10 \n"
     ]
    }
   ],
   "source": [
    "names(x) <- LETTERS[1:10];\n",
    "print(x) # 使用字符常数数组给向量命名，再通过变量名访问向量中的元素 "
   ]
  },
  {
   "cell_type": "code",
   "execution_count": 10,
   "metadata": {},
   "outputs": [
    {
     "name": "stdout",
     "output_type": "stream",
     "text": [
      "A \n",
      "1 \n"
     ]
    }
   ],
   "source": [
    "print(x['A']) "
   ]
  },
  {
   "cell_type": "code",
   "execution_count": 11,
   "metadata": {},
   "outputs": [
    {
     "ename": "ERROR",
     "evalue": "Error in View(x): 'View()' not yet supported in the Jupyter R kernel\n",
     "execution_count": 11,
     "output_type": "error",
     "traceback": [
      "Error in View(x): 'View()' not yet supported in the Jupyter R kernel\nTraceback:\n",
      "1. View(x)",
      "2. stop(sQuote(\"View()\"), \" not yet supported in the Jupyter R kernel\")"
     ]
    }
   ],
   "source": [
    "View(x) # x有点类似字典"
   ]
  },
  {
   "cell_type": "code",
   "execution_count": 12,
   "metadata": {},
   "outputs": [
    {
     "name": "stdout",
     "output_type": "stream",
     "text": [
      "[1] 10\n"
     ]
    }
   ],
   "source": [
    "print(length(x))"
   ]
  },
  {
   "cell_type": "code",
   "execution_count": 13,
   "metadata": {},
   "outputs": [
    {
     "name": "stdout",
     "output_type": "stream",
     "text": [
      " [1]  1  2  3  4  5  6  7  8  9 10\n",
      " [1]   1   2   3   4 100   6   7   8   9  10\n"
     ]
    }
   ],
   "source": [
    "x <- 1:10;\n",
    "print(x) \n",
    "x[5] <- 100;\n",
    "print(x)"
   ]
  },
  {
   "cell_type": "code",
   "execution_count": 14,
   "metadata": {},
   "outputs": [
    {
     "name": "stdout",
     "output_type": "stream",
     "text": [
      " [1]  1  2  3  4  5  6  7  8  9 10\n",
      " [1]  1  2  3  4  5  6  7  8  9 10 11 12 13\n"
     ]
    }
   ],
   "source": [
    "x <- 1:10;\n",
    "print(x) \n",
    "x <- c(x,11,12,13);\n",
    "print(x)"
   ]
  },
  {
   "cell_type": "code",
   "execution_count": 15,
   "metadata": {},
   "outputs": [
    {
     "name": "stdout",
     "output_type": "stream",
     "text": [
      " [1]  1  2  3  4  5  6  7  8  9 10\n",
      " [1]  1  2  3  4  5  6  7  8  9 10 11\n"
     ]
    }
   ],
   "source": [
    "x <- 1:10;\n",
    "print(x) \n",
    "x[length(x)+1] <- 11;\n",
    "print(x)"
   ]
  },
  {
   "cell_type": "markdown",
   "metadata": {},
   "source": [
    "并不是在原来的向量中插入数据而是返回一个新的向量  \n",
    "after参数表示在原向量中的那个向量后面插入数据 "
   ]
  },
  {
   "cell_type": "code",
   "execution_count": 16,
   "metadata": {},
   "outputs": [
    {
     "name": "stdout",
     "output_type": "stream",
     "text": [
      " [1]  1  2  3  4  5  6  7  8  9 10\n",
      " [1]  1  2  3  4  5  6  7  8  9 10\n",
      " [1] 11 12 13  1  2  3  4  5  6  7  8  9 10\n",
      " [1]  1  2  3  4  5  6  7  8  9 10\n",
      " [1]  1  2  3  4  5 11 12 13  6  7  8  9 10\n"
     ]
    }
   ],
   "source": [
    "x <- 1:10;\n",
    "print(x) \n",
    "y <- append(x,11:13,after=0);\n",
    "print(x);\n",
    "print(y) \n",
    "y <- append(x,11:13,after=5);\n",
    "print(x);\n",
    "print(y)"
   ]
  },
  {
   "cell_type": "code",
   "execution_count": 14,
   "metadata": {},
   "outputs": [
    {
     "name": "stdout",
     "output_type": "stream",
     "text": [
      "     [,1] [,2] [,3] [,4]\n",
      "[1,]    1    6   11   16\n",
      "[2,]    2    7   12   17\n",
      "[3,]    3    8   13   18\n",
      "[4,]    4    9   14   19\n",
      "[5,]    5   10   15   20\n"
     ]
    }
   ],
   "source": [
    "# 数组 \n",
    "# 生成向量然后通过设置行列数据转换成二维数组 \n",
    "x <- 1:20 \n",
    "dim(x) <- c(5,4) \n",
    "print(x) "
   ]
  },
  {
   "cell_type": "code",
   "execution_count": 15,
   "metadata": {},
   "outputs": [
    {
     "name": "stdout",
     "output_type": "stream",
     "text": [
      "     [,1] [,2] [,3] [,4]\n",
      "[1,] 3.14 3.14 3.14 3.14\n",
      "[2,] 3.14 3.14 3.14 3.14\n",
      "[3,] 3.14 3.14 3.14 3.14\n",
      "[4,] 3.14 3.14 3.14 3.14\n",
      "[5,] 3.14 3.14 3.14 3.14\n"
     ]
    }
   ],
   "source": [
    "x <- array(3.14,dim=c(5,4)) \n",
    "print(x) "
   ]
  },
  {
   "cell_type": "code",
   "execution_count": 16,
   "metadata": {},
   "outputs": [
    {
     "name": "stdout",
     "output_type": "stream",
     "text": [
      ", , 1\n",
      "\n",
      "          [,1]      [,2]      [,3]      [,4]\n",
      "[1,] 11.739859 14.671944 16.043055  4.474288\n",
      "[2,]  8.392017 13.108677  6.285443  8.783863\n",
      "[3,] 12.678970 10.834419 14.227438 16.491985\n",
      "[4,] 18.182335 12.881927 22.191449  5.994543\n",
      "[5,]  8.866629  5.770009 16.437035 17.510703\n",
      "\n",
      ", , 2\n",
      "\n",
      "          [,1]      [,2]      [,3]      [,4]\n",
      "[1,] 0.3057222  6.711887  7.229127  9.155751\n",
      "[2,] 8.9476973 16.028550 18.465106 12.385906\n",
      "[3,] 4.1443411 13.125212 18.698592 11.844463\n",
      "[4,] 7.6627066 11.949013  8.229086 11.646247\n",
      "[5,] 1.1682728  4.520407  9.066174  3.367711\n",
      "\n",
      "[1] 40\n"
     ]
    }
   ],
   "source": [
    "# 可以生成三维数组 \n",
    "# 使用正态分布随机数初始化整个数组 \n",
    "#  rnorm(n=40,mean=10,sd=5)\n",
    "x <- array(rnorm(40,10,5),dim=c(5,4,2)) \n",
    "print(x) \n",
    "print(length(x)) \n",
    "# 对于矩阵length()函数得到的是所有元素的总数量"
   ]
  },
  {
   "cell_type": "code",
   "execution_count": 1,
   "metadata": {},
   "outputs": [
    {
     "name": "stdout",
     "output_type": "stream",
     "text": [
      "         DAX    SMI    CAC   FTSE\n",
      "[1,] 1628.75 1678.1 1772.8 2443.6\n",
      "[2,] 1613.63 1688.5 1750.5 2460.2\n",
      "[3,] 1606.51 1678.6 1718.0 2448.2\n",
      "[4,] 1621.04 1684.1 1708.1 2470.4\n",
      "[5,] 1618.16 1686.6 1723.1 2484.7\n",
      "[6,] 1610.61 1671.6 1714.3 2466.8\n",
      "[1] \"mts\"    \"ts\"     \"matrix\"\n"
     ]
    }
   ],
   "source": [
    "# 矩阵访问\n",
    "data(EuStockMarkets) # EuStockMarkets 是本地R里面自带的\n",
    "print(head(EuStockMarkets)) \n",
    "print(class(EuStockMarkets)) "
   ]
  },
  {
   "cell_type": "code",
   "execution_count": 2,
   "metadata": {},
   "outputs": [
    {
     "name": "stdout",
     "output_type": "stream",
     "text": [
      "      DAX            SMI            CAC            FTSE     \n",
      " Min.   :1402   Min.   :1587   Min.   :1611   Min.   :2281  \n",
      " 1st Qu.:1744   1st Qu.:2166   1st Qu.:1875   1st Qu.:2843  \n",
      " Median :2141   Median :2796   Median :1992   Median :3247  \n",
      " Mean   :2531   Mean   :3376   Mean   :2228   Mean   :3566  \n",
      " 3rd Qu.:2722   3rd Qu.:3812   3rd Qu.:2274   3rd Qu.:3994  \n",
      " Max.   :6186   Max.   :8412   Max.   :4388   Max.   :6179  \n"
     ]
    }
   ],
   "source": [
    "print(summary(EuStockMarkets)) # 自动计算统计参数"
   ]
  },
  {
   "cell_type": "code",
   "execution_count": null,
   "metadata": {},
   "outputs": [],
   "source": [
    "print(EuStockMarkets[,'DAX']) # 输出所有行，DAX列数据，直接使用列名称访问 "
   ]
  },
  {
   "cell_type": "code",
   "execution_count": null,
   "metadata": {},
   "outputs": [],
   "source": [
    "print(EuStockMarkets[,1]) # 输出所有行，第一列（德国DAX指数）数据，编写大型程序时显然不够直观\n",
    "# 与上一行命令等价,注意R语言的索引都是从1开始的"
   ]
  },
  {
   "cell_type": "code",
   "execution_count": 6,
   "metadata": {},
   "outputs": [
    {
     "ename": "ERROR",
     "evalue": "Error in View(EuStockMarkets): 'View()' not yet supported in the Jupyter R kernel\n",
     "execution_count": 6,
     "output_type": "error",
     "traceback": [
      "Error in View(EuStockMarkets): 'View()' not yet supported in the Jupyter R kernel\nTraceback:\n",
      "1. View(EuStockMarkets)",
      "2. stop(sQuote(\"View()\"), \" not yet supported in the Jupyter R kernel\")"
     ]
    }
   ],
   "source": [
    "# 查看整个矩阵的数据，坏处是还需要手动关闭打开的页面 \n",
    "View(EuStockMarkets) "
   ]
  },
  {
   "cell_type": "code",
   "execution_count": 10,
   "metadata": {},
   "outputs": [],
   "source": [
    "#计算矩阵每一行的和生成一个新向量 \n",
    "rowTotal <- rowSums(EuStockMarkets) \n",
    "# print(rowTotal)"
   ]
  },
  {
   "cell_type": "code",
   "execution_count": 12,
   "metadata": {},
   "outputs": [
    {
     "name": "stdout",
     "output_type": "stream",
     "text": [
      " EuStockMarkets.EuStockMarkets.DAX EuStockMarkets.EuStockMarkets.SMI\n",
      " Min.   :1402                      Min.   :1587                     \n",
      " 1st Qu.:1744                      1st Qu.:2166                     \n",
      " Median :2141                      Median :2796                     \n",
      " Mean   :2531                      Mean   :3376                     \n",
      " 3rd Qu.:2722                      3rd Qu.:3812                     \n",
      " Max.   :6186                      Max.   :8412                     \n",
      " EuStockMarkets.EuStockMarkets.CAC EuStockMarkets.EuStockMarkets.FTSE\n",
      " Min.   :1611                      Min.   :2281                      \n",
      " 1st Qu.:1875                      1st Qu.:2843                      \n",
      " Median :1992                      Median :3247                      \n",
      " Mean   :2228                      Mean   :3566                      \n",
      " 3rd Qu.:2274                      3rd Qu.:3994                      \n",
      " Max.   :4388                      Max.   :6179                      \n",
      " EuStockMarkets.rowTotal    rowTotal    \n",
      " Min.   : 7120           Min.   : 7120  \n",
      " 1st Qu.: 8629           1st Qu.: 8629  \n",
      " Median :10226           Median :10226  \n",
      " Mean   :11700           Mean   :11700  \n",
      " 3rd Qu.:12706           3rd Qu.:12706  \n",
      " Max.   :25135           Max.   :25135  \n"
     ]
    }
   ],
   "source": [
    "# 以列方式将每一行和向量接在矩阵之后形成有5列的新矩阵 \n",
    "EuStockMarkets <- cbind(EuStockMarkets,rowTotal) \n",
    "# View(EuStockMarkets) \n",
    "print(summary(EuStockMarkets))"
   ]
  },
  {
   "cell_type": "code",
   "execution_count": 13,
   "metadata": {},
   "outputs": [
    {
     "name": "stdout",
     "output_type": "stream",
     "text": [
      "         EuStockMarkets.EuStockMarkets.DAX EuStockMarkets.EuStockMarkets.SMI\n",
      "                                   5460.43                            7721.3\n",
      "                                   5285.78                            7447.9\n",
      "                                   5386.94                            7607.5\n",
      "                                   5355.03                            7552.6\n",
      "                                   5473.72                            7676.3\n",
      "colTotal                        4707021.80                         6279776.1\n",
      "         EuStockMarkets.EuStockMarkets.CAC EuStockMarkets.EuStockMarkets.FTSE\n",
      "                                    3939.5                             5587.6\n",
      "                                    3846.0                             5432.8\n",
      "                                    3945.7                             5462.2\n",
      "                                    3951.7                             5399.5\n",
      "                                    3995.0                             5455.0\n",
      "colTotal                         4143761.0                          6632096.3\n",
      "         EuStockMarkets.rowTotal    rowTotal\n",
      "                        22708.83    22708.83\n",
      "                        22012.48    22012.48\n",
      "                        22402.34    22402.34\n",
      "                        22258.83    22258.83\n",
      "                        22600.02    22600.02\n",
      "colTotal             21762655.20 21762655.20\n"
     ]
    }
   ],
   "source": [
    "# 计算矩阵每一列的和生成一个新向量 \n",
    "colTotal <- colSums(EuStockMarkets) \n",
    "# 以行方式将每一行和向量接在矩阵之后形成一个有新累加和行的矩阵 \n",
    "EuStockMarkets <- rbind(EuStockMarkets,colTotal) \n",
    "print(tail(EuStockMarkets))"
   ]
  },
  {
   "cell_type": "markdown",
   "metadata": {},
   "source": [
    "dataframe是矩阵的进阶版,形式和Excel比较相似    \n",
    "每一列可以看做是一个向量，类型相同(去掉列属性)；不同列数据之间可以有不同类型    \n",
    "同列表的重要区别是：数据框要求每一列数据长度相同    \n",
    "dataframe的每一行可以看作是一条记录，每一列看做是记录的某一个属性    \n",
    "dataframe是金融大数据处理中非常重要的数据结构，用途很广必须深入了解    "
   ]
  },
  {
   "cell_type": "code",
   "execution_count": 19,
   "metadata": {},
   "outputs": [
    {
     "data": {
      "text/html": [
       "<table>\n",
       "<thead><tr><th scope=col>symbols</th><th scope=col>price</th><th scope=col>currency</th><th scope=col>country</th><th scope=col>type</th></tr></thead>\n",
       "<tbody>\n",
       "\t<tr><td>MSFT </td><td>40.40</td><td>USD  </td><td>USA  </td><td>STOCK</td></tr>\n",
       "\t<tr><td>KO   </td><td>40.56</td><td>USD  </td><td>USA  </td><td>STOCK</td></tr>\n",
       "\t<tr><td>CSCO </td><td>23.02</td><td>USD  </td><td>USA  </td><td>STOCK</td></tr>\n",
       "</tbody>\n",
       "</table>\n"
      ],
      "text/latex": [
       "\\begin{tabular}{r|lllll}\n",
       " symbols & price & currency & country & type\\\\\n",
       "\\hline\n",
       "\t MSFT  & 40.40 & USD   & USA   & STOCK\\\\\n",
       "\t KO    & 40.56 & USD   & USA   & STOCK\\\\\n",
       "\t CSCO  & 23.02 & USD   & USA   & STOCK\\\\\n",
       "\\end{tabular}\n"
      ],
      "text/markdown": [
       "\n",
       "symbols | price | currency | country | type | \n",
       "|---|---|---|\n",
       "| MSFT  | 40.40 | USD   | USA   | STOCK | \n",
       "| KO    | 40.56 | USD   | USA   | STOCK | \n",
       "| CSCO  | 23.02 | USD   | USA   | STOCK | \n",
       "\n",
       "\n"
      ],
      "text/plain": [
       "  symbols price currency country type \n",
       "1 MSFT    40.40 USD      USA     STOCK\n",
       "2 KO      40.56 USD      USA     STOCK\n",
       "3 CSCO    23.02 USD      USA     STOCK"
      ]
     },
     "metadata": {},
     "output_type": "display_data"
    }
   ],
   "source": [
    "my_df <- data.frame(symbols=c('MSFT','KO','CSCO'),price=c(40.40,40.56,23.02),currency=rep('USD',3),country=rep('USA',3),type=rep('STOCK',3)) \n",
    "my_df"
   ]
  },
  {
   "cell_type": "code",
   "execution_count": 20,
   "metadata": {},
   "outputs": [
    {
     "name": "stdout",
     "output_type": "stream",
     "text": [
      "[1] \"data.frame\"\n",
      "df数据框行数为： 3 \n",
      "df数据框列数为： 5 \n",
      "列数（属性）数量： 5 \n"
     ]
    }
   ],
   "source": [
    "print(class(my_df)) \n",
    "cat('df数据框行数为：',nrow(my_df),'\\ndf数据框列数为：',ncol(my_df),'\\n',sep=' ') \n",
    "cat('列数（属性）数量：',length(my_df),'\\n',sep=' ') "
   ]
  },
  {
   "cell_type": "code",
   "execution_count": 21,
   "metadata": {},
   "outputs": [
    {
     "name": "stdout",
     "output_type": "stream",
     "text": [
      "  symbols price currency country  type\n",
      "1    MSFT  40.4      USD     USA STOCK\n"
     ]
    }
   ],
   "source": [
    "print(my_df[1,]) # 通过行号访问数据框的一行 "
   ]
  },
  {
   "cell_type": "code",
   "execution_count": 22,
   "metadata": {},
   "outputs": [
    {
     "name": "stdout",
     "output_type": "stream",
     "text": [
      "[1] 40.40 40.56 23.02\n"
     ]
    }
   ],
   "source": [
    "print(my_df[,2])  # 通过列号访问数据框的一列 "
   ]
  },
  {
   "cell_type": "code",
   "execution_count": 23,
   "metadata": {},
   "outputs": [
    {
     "name": "stdout",
     "output_type": "stream",
     "text": [
      "[1] 40.40 40.56 23.02\n"
     ]
    }
   ],
   "source": [
    "print(my_df$price) # 用列名称是更好、更直观的方式 "
   ]
  },
  {
   "cell_type": "markdown",
   "metadata": {},
   "source": [
    "如果需要多次访问数据框中的数据列可以将数据框名称加入到搜索路径中 \n",
    "这样就可以直接使用数据列名称 "
   ]
  },
  {
   "cell_type": "code",
   "execution_count": 26,
   "metadata": {},
   "outputs": [
    {
     "name": "stdout",
     "output_type": "stream",
     "text": [
      "[1] USD USD USD\n",
      "Levels: USD\n",
      "[1] STOCK STOCK STOCK\n",
      "Levels: STOCK\n"
     ]
    }
   ],
   "source": [
    "attach(my_df) \n",
    "print(currency) \n",
    "print(type) "
   ]
  },
  {
   "cell_type": "code",
   "execution_count": 27,
   "metadata": {},
   "outputs": [
    {
     "ename": "ERROR",
     "evalue": "Error in print(type): 找不到对象'type'\n",
     "execution_count": 27,
     "output_type": "error",
     "traceback": [
      "Error in print(type): 找不到对象'type'\nTraceback:\n",
      "1. print(type)"
     ]
    }
   ],
   "source": [
    "detach(my_df)\n",
    "print(type) "
   ]
  },
  {
   "cell_type": "markdown",
   "metadata": {},
   "source": [
    "### 列表 \n",
    "列表使用list()函数来定义，列表中的每个元素可以是单个变量或者是向量，甚至是另一个列表 \n",
    "列表中每个向量的长度可以不同，这是列表和数据框的重要区别 \n",
    "R语言中的列表更像是有序的字典.   \n",
    "数据框是一种形式特殊的列表,python中的pandas的dataframe可通过[{},{},...,{}]转化."
   ]
  },
  {
   "cell_type": "code",
   "execution_count": 28,
   "metadata": {
    "scrolled": true
   },
   "outputs": [
    {
     "data": {
      "text/html": [
       "<dl>\n",
       "\t<dt>$symbols</dt>\n",
       "\t\t<dd><ol class=list-inline>\n",
       "\t<li>'MSFT'</li>\n",
       "\t<li>'KO'</li>\n",
       "\t<li>'CSCO'</li>\n",
       "</ol>\n",
       "</dd>\n",
       "\t<dt>$price</dt>\n",
       "\t\t<dd><ol class=list-inline>\n",
       "\t<li>40.4</li>\n",
       "\t<li>40.56</li>\n",
       "\t<li>23.02</li>\n",
       "</ol>\n",
       "</dd>\n",
       "\t<dt>$currency</dt>\n",
       "\t\t<dd>'USD'</dd>\n",
       "\t<dt>$country</dt>\n",
       "\t\t<dd>'USA'</dd>\n",
       "\t<dt>$type</dt>\n",
       "\t\t<dd>'STOCK'</dd>\n",
       "</dl>\n"
      ],
      "text/latex": [
       "\\begin{description}\n",
       "\\item[\\$symbols] \\begin{enumerate*}\n",
       "\\item 'MSFT'\n",
       "\\item 'KO'\n",
       "\\item 'CSCO'\n",
       "\\end{enumerate*}\n",
       "\n",
       "\\item[\\$price] \\begin{enumerate*}\n",
       "\\item 40.4\n",
       "\\item 40.56\n",
       "\\item 23.02\n",
       "\\end{enumerate*}\n",
       "\n",
       "\\item[\\$currency] 'USD'\n",
       "\\item[\\$country] 'USA'\n",
       "\\item[\\$type] 'STOCK'\n",
       "\\end{description}\n"
      ],
      "text/markdown": [
       "$symbols\n",
       ":   1. 'MSFT'\n",
       "2. 'KO'\n",
       "3. 'CSCO'\n",
       "\n",
       "\n",
       "\n",
       "$price\n",
       ":   1. 40.4\n",
       "2. 40.56\n",
       "3. 23.02\n",
       "\n",
       "\n",
       "\n",
       "$currency\n",
       ":   'USD'\n",
       "$country\n",
       ":   'USA'\n",
       "$type\n",
       ":   'STOCK'\n",
       "\n",
       "\n"
      ],
      "text/plain": [
       "$symbols\n",
       "[1] \"MSFT\" \"KO\"   \"CSCO\"\n",
       "\n",
       "$price\n",
       "[1] 40.40 40.56 23.02\n",
       "\n",
       "$currency\n",
       "[1] \"USD\"\n",
       "\n",
       "$country\n",
       "[1] \"USA\"\n",
       "\n",
       "$type\n",
       "[1] \"STOCK\"\n"
      ]
     },
     "metadata": {},
     "output_type": "display_data"
    },
    {
     "name": "stdout",
     "output_type": "stream",
     "text": [
      "[1] 5\n"
     ]
    }
   ],
   "source": [
    "lst <- list(symbols=c('MSFT','KO','CSCO'),price=c(40.40,40.56,23.02),currency='USD',country='USA',type='STOCK') \n",
    "lst \n",
    "print(length(lst)) # 共5个元素"
   ]
  },
  {
   "cell_type": "code",
   "execution_count": 29,
   "metadata": {},
   "outputs": [
    {
     "name": "stdout",
     "output_type": "stream",
     "text": [
      "List of 5\n",
      " $ symbols : chr [1:3] \"MSFT\" \"KO\" \"CSCO\"\n",
      " $ price   : num [1:3] 40.4 40.6 23\n",
      " $ currency: chr \"USD\"\n",
      " $ country : chr \"USA\"\n",
      " $ type    : chr \"STOCK\"\n"
     ]
    }
   ],
   "source": [
    "str(lst) # 更友好的打印"
   ]
  },
  {
   "cell_type": "code",
   "execution_count": 18,
   "metadata": {},
   "outputs": [
    {
     "name": "stdout",
     "output_type": "stream",
     "text": [
      "$symbols\n",
      "[1] \"MSFT\" \"KO\"   \"CSCO\"\n",
      "\n",
      "[1] \"MSFT\" \"KO\"   \"CSCO\"\n",
      "[1] \"MSFT\" \"KO\"   \"CSCO\"\n",
      "[1] \"MSFT\"\n"
     ]
    }
   ],
   "source": [
    "lst <- list(symbols=c('MSFT','KO','CSCO'),price=c(40.40,40.56,23.02),currency='USD',country='USA',type='STOCK') \n",
    "print(lst[1])\n",
    "print(lst$symbols)\n",
    "print(lst[[1]]) # 该列表的第一个元素是一个向量symbols\n",
    "print(lst$symbols[1]) # 该列表中symbols向量的第一个元素"
   ]
  },
  {
   "cell_type": "markdown",
   "metadata": {},
   "source": [
    "个人认为R语言里的list有点像有序字典"
   ]
  },
  {
   "cell_type": "code",
   "execution_count": 20,
   "metadata": {},
   "outputs": [
    {
     "data": {
      "text/html": [
       "<ol class=list-inline>\n",
       "\t<li>'symbols'</li>\n",
       "\t<li>'price'</li>\n",
       "\t<li>'currency'</li>\n",
       "\t<li>'country'</li>\n",
       "\t<li>'type'</li>\n",
       "</ol>\n"
      ],
      "text/latex": [
       "\\begin{enumerate*}\n",
       "\\item 'symbols'\n",
       "\\item 'price'\n",
       "\\item 'currency'\n",
       "\\item 'country'\n",
       "\\item 'type'\n",
       "\\end{enumerate*}\n"
      ],
      "text/markdown": [
       "1. 'symbols'\n",
       "2. 'price'\n",
       "3. 'currency'\n",
       "4. 'country'\n",
       "5. 'type'\n",
       "\n",
       "\n"
      ],
      "text/plain": [
       "[1] \"symbols\"  \"price\"    \"currency\" \"country\"  \"type\"    "
      ]
     },
     "metadata": {},
     "output_type": "display_data"
    },
    {
     "data": {
      "text/html": [
       "<ol class=list-inline>\n",
       "\t<li>'symbols'</li>\n",
       "\t<li>'price'</li>\n",
       "\t<li>'currency'</li>\n",
       "\t<li>'country'</li>\n",
       "\t<li>'type'</li>\n",
       "\t<li>'TradeDate'</li>\n",
       "</ol>\n"
      ],
      "text/latex": [
       "\\begin{enumerate*}\n",
       "\\item 'symbols'\n",
       "\\item 'price'\n",
       "\\item 'currency'\n",
       "\\item 'country'\n",
       "\\item 'type'\n",
       "\\item 'TradeDate'\n",
       "\\end{enumerate*}\n"
      ],
      "text/markdown": [
       "1. 'symbols'\n",
       "2. 'price'\n",
       "3. 'currency'\n",
       "4. 'country'\n",
       "5. 'type'\n",
       "6. 'TradeDate'\n",
       "\n",
       "\n"
      ],
      "text/plain": [
       "[1] \"symbols\"   \"price\"     \"currency\"  \"country\"   \"type\"      \"TradeDate\""
      ]
     },
     "metadata": {},
     "output_type": "display_data"
    }
   ],
   "source": [
    "# 在列表末尾添加一个新的元素TradeDate\n",
    "names(lst) \n",
    "lst$TradeDate <- as.Date(rep('2014-4-17',3)) \n",
    "names(lst)"
   ]
  },
  {
   "cell_type": "markdown",
   "metadata": {},
   "source": [
    "names(lst) 有点像把有序字典的keys取出来"
   ]
  },
  {
   "cell_type": "code",
   "execution_count": 22,
   "metadata": {},
   "outputs": [
    {
     "name": "stdout",
     "output_type": "stream",
     "text": [
      "[1] \"2014-04-17\"\n",
      "[1] \"2014-04-17\"\n",
      "[1] \"2014-04-17\"\n"
     ]
    }
   ],
   "source": [
    "print(lst$TradeDate[1])\n",
    "print(lst$TradeDate[2])\n",
    "print(lst$TradeDate[3])"
   ]
  },
  {
   "cell_type": "code",
   "execution_count": 24,
   "metadata": {},
   "outputs": [
    {
     "name": "stdout",
     "output_type": "stream",
     "text": [
      "[1] \"Date of length 0\"\n",
      "[1] NA\n"
     ]
    }
   ],
   "source": [
    "print(lst$TradeDate[0])\n",
    "print(lst$TradeDate[4])"
   ]
  },
  {
   "cell_type": "code",
   "execution_count": 26,
   "metadata": {},
   "outputs": [
    {
     "data": {
      "text/html": [
       "<ol class=list-inline>\n",
       "\t<li>'plantform'</li>\n",
       "\t<li>'symbols'</li>\n",
       "\t<li>'price'</li>\n",
       "\t<li>'currency'</li>\n",
       "\t<li>'country'</li>\n",
       "\t<li>'type'</li>\n",
       "\t<li>'TradeDate'</li>\n",
       "</ol>\n"
      ],
      "text/latex": [
       "\\begin{enumerate*}\n",
       "\\item 'plantform'\n",
       "\\item 'symbols'\n",
       "\\item 'price'\n",
       "\\item 'currency'\n",
       "\\item 'country'\n",
       "\\item 'type'\n",
       "\\item 'TradeDate'\n",
       "\\end{enumerate*}\n"
      ],
      "text/markdown": [
       "1. 'plantform'\n",
       "2. 'symbols'\n",
       "3. 'price'\n",
       "4. 'currency'\n",
       "5. 'country'\n",
       "6. 'type'\n",
       "7. 'TradeDate'\n",
       "\n",
       "\n"
      ],
      "text/plain": [
       "[1] \"plantform\" \"symbols\"   \"price\"     \"currency\"  \"country\"   \"type\"     \n",
       "[7] \"TradeDate\""
      ]
     },
     "metadata": {},
     "output_type": "display_data"
    },
    {
     "name": "stdout",
     "output_type": "stream",
     "text": [
      "List of 7\n",
      " $ plantform: chr [1:3] \"FXCM\" \"FXCM\" \"FXCM\"\n",
      " $ symbols  : chr [1:3] \"MSFT\" \"KO\" \"CSCO\"\n",
      " $ price    : num [1:3] 40.4 40.6 23\n",
      " $ currency : chr \"USD\"\n",
      " $ country  : chr \"USA\"\n",
      " $ type     : chr \"STOCK\"\n",
      " $ TradeDate: Date[1:3], format: \"2014-04-17\" \"2014-04-17\" ...\n"
     ]
    }
   ],
   "source": [
    "z <- list(plantform = rep('FXCM',3)) \n",
    "lst <- append(lst,z,after=0) # 在list头部加入\n",
    "names(lst) \n",
    "str(lst)"
   ]
  },
  {
   "cell_type": "code",
   "execution_count": 27,
   "metadata": {},
   "outputs": [
    {
     "data": {
      "text/html": [
       "<ol class=list-inline>\n",
       "\t<li>'plantform'</li>\n",
       "\t<li>'symbols'</li>\n",
       "\t<li>'price'</li>\n",
       "\t<li>'currency'</li>\n",
       "\t<li>'country'</li>\n",
       "\t<li>'type'</li>\n",
       "\t<li>'TradeDate'</li>\n",
       "</ol>\n"
      ],
      "text/latex": [
       "\\begin{enumerate*}\n",
       "\\item 'plantform'\n",
       "\\item 'symbols'\n",
       "\\item 'price'\n",
       "\\item 'currency'\n",
       "\\item 'country'\n",
       "\\item 'type'\n",
       "\\item 'TradeDate'\n",
       "\\end{enumerate*}\n"
      ],
      "text/markdown": [
       "1. 'plantform'\n",
       "2. 'symbols'\n",
       "3. 'price'\n",
       "4. 'currency'\n",
       "5. 'country'\n",
       "6. 'type'\n",
       "7. 'TradeDate'\n",
       "\n",
       "\n"
      ],
      "text/plain": [
       "[1] \"plantform\" \"symbols\"   \"price\"     \"currency\"  \"country\"   \"type\"     \n",
       "[7] \"TradeDate\""
      ]
     },
     "metadata": {},
     "output_type": "display_data"
    },
    {
     "data": {
      "text/html": [
       "<ol class=list-inline>\n",
       "\t<li>'plantform'</li>\n",
       "\t<li>'symbols'</li>\n",
       "\t<li>'currency'</li>\n",
       "\t<li>'country'</li>\n",
       "\t<li>'type'</li>\n",
       "\t<li>'TradeDate'</li>\n",
       "</ol>\n"
      ],
      "text/latex": [
       "\\begin{enumerate*}\n",
       "\\item 'plantform'\n",
       "\\item 'symbols'\n",
       "\\item 'currency'\n",
       "\\item 'country'\n",
       "\\item 'type'\n",
       "\\item 'TradeDate'\n",
       "\\end{enumerate*}\n"
      ],
      "text/markdown": [
       "1. 'plantform'\n",
       "2. 'symbols'\n",
       "3. 'currency'\n",
       "4. 'country'\n",
       "5. 'type'\n",
       "6. 'TradeDate'\n",
       "\n",
       "\n"
      ],
      "text/plain": [
       "[1] \"plantform\" \"symbols\"   \"currency\"  \"country\"   \"type\"      \"TradeDate\""
      ]
     },
     "metadata": {},
     "output_type": "display_data"
    }
   ],
   "source": [
    "# 删除列表中的指定项\n",
    "names(lst) \n",
    "lst$price <- NULL \n",
    "names(lst)"
   ]
  }
 ],
 "metadata": {
  "kernelspec": {
   "display_name": "R",
   "language": "R",
   "name": "ir"
  },
  "language_info": {
   "codemirror_mode": "r",
   "file_extension": ".r",
   "mimetype": "text/x-r-source",
   "name": "R",
   "pygments_lexer": "r",
   "version": "3.4.3"
  }
 },
 "nbformat": 4,
 "nbformat_minor": 2
}
