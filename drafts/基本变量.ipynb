{
 "cells": [
  {
   "cell_type": "markdown",
   "metadata": {},
   "source": [
    "基本变量"
   ]
  },
  {
   "cell_type": "code",
   "execution_count": 1,
   "metadata": {},
   "outputs": [
    {
     "name": "stdout",
     "output_type": "stream",
     "text": [
      "[1] 2\n"
     ]
    }
   ],
   "source": [
    "x <- 2; \n",
    "print(x) "
   ]
  },
  {
   "cell_type": "code",
   "execution_count": 2,
   "metadata": {},
   "outputs": [
    {
     "name": "stdout",
     "output_type": "stream",
     "text": [
      "[1] 2\n"
     ]
    }
   ],
   "source": [
    "x = 2; # 在R语言中尽量用 <- 赋值 \n",
    "print(x) "
   ]
  },
  {
   "cell_type": "code",
   "execution_count": 3,
   "metadata": {},
   "outputs": [
    {
     "name": "stdout",
     "output_type": "stream",
     "text": [
      "[1] 1.5 2.3 8.6 7.4 9.2\n"
     ]
    }
   ],
   "source": [
    "y1 <- c(1.5,2.3,8.6,7.4,9.2);\n",
    "print(y1) "
   ]
  },
  {
   "cell_type": "code",
   "execution_count": 10,
   "metadata": {},
   "outputs": [
    {
     "ename": "ERROR",
     "evalue": "Error in parse(text = x, srcfile = src): <text>:1:9: unexpected input\n1: y2 <- c(<e2>\n            ^\n",
     "output_type": "error",
     "traceback": [
      "Error in parse(text = x, srcfile = src): <text>:1:9: unexpected input\n1: y2 <- c(<e2>\n            ^\nTraceback:\n"
     ]
    }
   ],
   "source": [
    "y2 <- c(“MSFT”,”GOOG”,”AAPL”);\n",
    "print(y2) "
   ]
  },
  {
   "cell_type": "code",
   "execution_count": 9,
   "metadata": {},
   "outputs": [
    {
     "name": "stdout",
     "output_type": "stream",
     "text": [
      "[1] \"MSFT\" \"GOOG\" \"AAPL\"\n"
     ]
    }
   ],
   "source": [
    "y2 <- c('MSFT','GOOG','AAPL');\n",
    "print(y2) "
   ]
  },
  {
   "cell_type": "code",
   "execution_count": 11,
   "metadata": {},
   "outputs": [
    {
     "name": "stdout",
     "output_type": "stream",
     "text": [
      "[1]  TRUE FALSE  TRUE  TRUE FALSE FALSE\n"
     ]
    }
   ],
   "source": [
    "y3 <- c(T,F,T,T,F,F);\n",
    "print(y3) "
   ]
  },
  {
   "cell_type": "code",
   "execution_count": 12,
   "metadata": {},
   "outputs": [
    {
     "name": "stdout",
     "output_type": "stream",
     "text": [
      "[1] 3.141593\n"
     ]
    }
   ],
   "source": [
    "3.1415926 -> z;# 数据在左，变量名在右赋值，但比较少用 \n",
    "print(z) "
   ]
  },
  {
   "cell_type": "code",
   "execution_count": 16,
   "metadata": {},
   "outputs": [
    {
     "name": "stdout",
     "output_type": "stream",
     "text": [
      "[1] 1.414\n"
     ]
    }
   ],
   "source": [
    "assign('x',1.414);# assign()函数给变量赋值 \n",
    "print(x) "
   ]
  },
  {
   "cell_type": "code",
   "execution_count": 26,
   "metadata": {},
   "outputs": [
    {
     "name": "stdout",
     "output_type": "stream",
     "text": [
      "[1] 1860\n"
     ]
    }
   ],
   "source": [
    "szSymbolName <- \"GSPC\" ;\n",
    "assign('szSymbolName',1860);\n",
    "print(szSymbolName) "
   ]
  },
  {
   "cell_type": "code",
   "execution_count": 28,
   "metadata": {},
   "outputs": [
    {
     "name": "stdout",
     "output_type": "stream",
     "text": [
      "x =  1.414 \n"
     ]
    }
   ],
   "source": [
    "cat('x = ',x,'\\n',sep=\" \"); "
   ]
  },
  {
   "cell_type": "code",
   "execution_count": 30,
   "metadata": {},
   "outputs": [
    {
     "data": {
      "text/html": [
       "<ol class=list-inline>\n",
       "\t<li>'szSymbolName'</li>\n",
       "\t<li>'x'</li>\n",
       "\t<li>'y1'</li>\n",
       "\t<li>'y2'</li>\n",
       "\t<li>'y3'</li>\n",
       "\t<li>'z'</li>\n",
       "</ol>\n"
      ],
      "text/latex": [
       "\\begin{enumerate*}\n",
       "\\item 'szSymbolName'\n",
       "\\item 'x'\n",
       "\\item 'y1'\n",
       "\\item 'y2'\n",
       "\\item 'y3'\n",
       "\\item 'z'\n",
       "\\end{enumerate*}\n"
      ],
      "text/markdown": [
       "1. 'szSymbolName'\n",
       "2. 'x'\n",
       "3. 'y1'\n",
       "4. 'y2'\n",
       "5. 'y3'\n",
       "6. 'z'\n",
       "\n",
       "\n"
      ],
      "text/plain": [
       "[1] \"szSymbolName\" \"x\"            \"y1\"           \"y2\"           \"y3\"          \n",
       "[6] \"z\"           "
      ]
     },
     "metadata": {},
     "output_type": "display_data"
    }
   ],
   "source": [
    "ls() #显示当前内存中的所有变量、函数名称"
   ]
  },
  {
   "cell_type": "code",
   "execution_count": 31,
   "metadata": {},
   "outputs": [],
   "source": [
    "rm(y1) #删除内存中的指定名称变量"
   ]
  },
  {
   "cell_type": "code",
   "execution_count": 32,
   "metadata": {},
   "outputs": [
    {
     "data": {
      "text/html": [
       "<ol class=list-inline>\n",
       "\t<li>'szSymbolName'</li>\n",
       "\t<li>'x'</li>\n",
       "\t<li>'y2'</li>\n",
       "\t<li>'y3'</li>\n",
       "\t<li>'z'</li>\n",
       "</ol>\n"
      ],
      "text/latex": [
       "\\begin{enumerate*}\n",
       "\\item 'szSymbolName'\n",
       "\\item 'x'\n",
       "\\item 'y2'\n",
       "\\item 'y3'\n",
       "\\item 'z'\n",
       "\\end{enumerate*}\n"
      ],
      "text/markdown": [
       "1. 'szSymbolName'\n",
       "2. 'x'\n",
       "3. 'y2'\n",
       "4. 'y3'\n",
       "5. 'z'\n",
       "\n",
       "\n"
      ],
      "text/plain": [
       "[1] \"szSymbolName\" \"x\"            \"y2\"           \"y3\"           \"z\"           "
      ]
     },
     "metadata": {},
     "output_type": "display_data"
    }
   ],
   "source": [
    "ls() #显示当前内存中的所有变量、函数名称"
   ]
  },
  {
   "cell_type": "code",
   "execution_count": null,
   "metadata": {},
   "outputs": [],
   "source": [
    "rm(list=ls())#删除内存中加载的所有变量和函数，慎用： "
   ]
  },
  {
   "cell_type": "code",
   "execution_count": 23,
   "metadata": {},
   "outputs": [
    {
     "name": "stdout",
     "output_type": "stream",
     "text": [
      "[1] \"Date\"\n",
      "[1] \"2018-08-03\"\n",
      "[1] \"POSIXct\" \"POSIXt\" \n",
      "[1] \"2018-08-03 11:31:09 CST\"\n",
      "[1] \"Date\"\n",
      "[1] \"2014-04-17\"\n",
      "[1] \"Date\"\n",
      "[1] \"2014-04-17\"\n"
     ]
    }
   ],
   "source": [
    "# 日期类变量 \n",
    "dtVar <- Sys.Date() \n",
    "print(class(dtVar));\n",
    "print(dtVar) \n",
    "dtVar <- Sys.time() \n",
    "print(class(dtVar));\n",
    "print(dtVar) \n",
    "dtVar <- as.Date('2014-4-17',tz='UTC') \n",
    "print(class(dtVar));\n",
    "print(dtVar) \n",
    "dtVar <- as.Date('2014/4/17',tz='CST')\n",
    "print(class(dtVar));\n",
    "print(dtVar)"
   ]
  },
  {
   "cell_type": "code",
   "execution_count": 26,
   "metadata": {},
   "outputs": [
    {
     "name": "stdout",
     "output_type": "stream",
     "text": [
      "[1] \"POSIXct\" \"POSIXt\" \n",
      "[1] \"2014-04-17 12:00:00 GMT\"\n",
      "[1] \"POSIXct\" \"POSIXt\" \n",
      "[1] \"2014-04-17 15:28:48 CST\"\n"
     ]
    },
    {
     "data": {
      "text/html": [
       "16177"
      ],
      "text/latex": [
       "16177"
      ],
      "text/markdown": [
       "16177"
      ],
      "text/plain": [
       "[1] 16177"
      ]
     },
     "metadata": {},
     "output_type": "display_data"
    }
   ],
   "source": [
    "# 用数字直接生成日期对象 \n",
    "# ISOdate()函数得到的是一个POSIXct对象 \n",
    "t <- ISOdate(2014,4,17) \n",
    "print(class(t));\n",
    "print(t) \n",
    "# 允许继续加入小时、分钟、秒数信息 \n",
    "t <- ISOdatetime(2014,4,17,15,28,48) \n",
    "print(class(t));\n",
    "print(t) \n",
    "# 将Date日期转换成儒略日期 \n",
    "# 在R中这是自1970-1-1以来的天数 \n",
    "d <- as.Date('2014-4-17') \n",
    "as.integer(d) "
   ]
  },
  {
   "cell_type": "code",
   "execution_count": 27,
   "metadata": {},
   "outputs": [
    {
     "data": {
      "text/html": [
       "16177"
      ],
      "text/latex": [
       "16177"
      ],
      "text/markdown": [
       "16177"
      ],
      "text/plain": [
       "[1] 16177\n",
       "attr(,\"origin\")\n",
       "[1] \"1970-01-01\""
      ]
     },
     "metadata": {},
     "output_type": "display_data"
    }
   ],
   "source": [
    "julian(d) "
   ]
  },
  {
   "cell_type": "code",
   "execution_count": 28,
   "metadata": {},
   "outputs": [
    {
     "name": "stdout",
     "output_type": "stream",
     "text": [
      "[1] \"POSIXlt\" \"POSIXt\" \n",
      "[1] \"list\"\n",
      "[1] \"2018-08-03 11:34:48 CST\"\n"
     ]
    }
   ],
   "source": [
    "# 提取日期中的各个组成部分信息 \n",
    "d <- Sys.time() \n",
    "p <- as.POSIXlt(d) \n",
    "print(class(p));\n",
    "print(mode(p));\n",
    "print(p)"
   ]
  },
  {
   "cell_type": "code",
   "execution_count": 29,
   "metadata": {},
   "outputs": [
    {
     "name": "stdout",
     "output_type": "stream",
     "text": [
      "[1] 2018\n"
     ]
    }
   ],
   "source": [
    "# p$year 自1900年以来的年份\n",
    "print(p$year+1900)"
   ]
  },
  {
   "cell_type": "code",
   "execution_count": 30,
   "metadata": {},
   "outputs": [
    {
     "name": "stdout",
     "output_type": "stream",
     "text": [
      "[1] 8\n"
     ]
    }
   ],
   "source": [
    "# p$mon 表示0-11月\n",
    "print(p$mon+1)"
   ]
  },
  {
   "cell_type": "code",
   "execution_count": 31,
   "metadata": {},
   "outputs": [
    {
     "name": "stdout",
     "output_type": "stream",
     "text": [
      "[1] 3\n"
     ]
    }
   ],
   "source": [
    "# p$mday 该月的第几天\n",
    "print(p$mday)"
   ]
  },
  {
   "cell_type": "code",
   "execution_count": 32,
   "metadata": {},
   "outputs": [
    {
     "name": "stdout",
     "output_type": "stream",
     "text": [
      "[1] 215\n"
     ]
    }
   ],
   "source": [
    "# p$yday 该年的第几天，0-365天，元旦当天是第0天\n",
    "print(p$yday+1)"
   ]
  },
  {
   "cell_type": "code",
   "execution_count": 34,
   "metadata": {},
   "outputs": [
    {
     "name": "stdout",
     "output_type": "stream",
     "text": [
      "[1] 5\n"
     ]
    }
   ],
   "source": [
    "# p$wday 对应周几，0-6，周日为0，其他时间和我们日常习惯一致\n",
    "# 2018-08-03 是周五\n",
    "print(p$wday)"
   ]
  }
 ],
 "metadata": {
  "kernelspec": {
   "display_name": "R",
   "language": "R",
   "name": "ir"
  },
  "language_info": {
   "codemirror_mode": "r",
   "file_extension": ".r",
   "mimetype": "text/x-r-source",
   "name": "R",
   "pygments_lexer": "r",
   "version": "3.4.3"
  }
 },
 "nbformat": 4,
 "nbformat_minor": 2
}
