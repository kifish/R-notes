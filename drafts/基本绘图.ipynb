{
 "cells": [
  {
   "cell_type": "markdown",
   "metadata": {},
   "source": [
    "### 散点图"
   ]
  },
  {
   "cell_type": "code",
   "execution_count": 1,
   "metadata": {},
   "outputs": [],
   "source": [
    "x <- 1:100 \n",
    "y <- 100 + x*5 \n",
    "# windows(300,200); #弹出的窗口大小\n",
    "# plot(y) "
   ]
  },
  {
   "cell_type": "code",
   "execution_count": 2,
   "metadata": {},
   "outputs": [
    {
     "data": {
      "image/png": "[encoded data removed]",
      "text/plain": [
       "plot without title"
      ]
     },
     "metadata": {},
     "output_type": "display_data",
     "source": "R display func"
    }
   ],
   "source": [
    "options(repr.plot.width=2, repr.plot.height=2)\n",
    "plot(y) "
   ]
  },
  {
   "cell_type": "markdown",
   "metadata": {},
   "source": [
    "### 直线图"
   ]
  },
  {
   "cell_type": "code",
   "execution_count": 5,
   "metadata": {},
   "outputs": [
    {
     "data": {
      "image/png": "[encoded data removed]",
      "text/plain": [
       "plot without title"
      ]
     },
     "metadata": {},
     "output_type": "display_data",
     "source": "R display func"
    }
   ],
   "source": [
    "plot(y,type='l') ##type为l表示绘制为直线 "
   ]
  },
  {
   "cell_type": "code",
   "execution_count": 6,
   "metadata": {},
   "outputs": [
    {
     "data": {
      "image/png": "[encoded data removed]",
      "text/plain": [
       "plot without title"
      ]
     },
     "metadata": {},
     "output_type": "display_data",
     "source": "R display func"
    }
   ],
   "source": [
    "x <- rnorm(100,10,5)  # 100个正态分布随机数\n",
    "plot(x) "
   ]
  },
  {
   "cell_type": "code",
   "execution_count": 7,
   "metadata": {},
   "outputs": [
    {
     "data": {
      "image/png": "[encoded data removed]",
      "text/plain": [
       "Plot with title \"Histogram of x\""
      ]
     },
     "metadata": {},
     "output_type": "display_data",
     "source": "R display func"
    }
   ],
   "source": [
    "x <- rnorm(1000,30,10) # 频数直方图\n",
    "hist(x) "
   ]
  },
  {
   "cell_type": "code",
   "execution_count": 8,
   "metadata": {},
   "outputs": [
    {
     "data": {
      "image/png": "[encoded data removed]",
      "text/plain": [
       "Plot with title \"Histogram of x\""
      ]
     },
     "metadata": {},
     "output_type": "display_data",
     "source": "R display func"
    }
   ],
   "source": [
    "# 在直方图上绘制密度曲线\n",
    "# 使用核密度估计函数density()，在直方图上绘制密度曲线 \n",
    "# hist()函数必须设置freq参数为F才能显示密度曲线 \n",
    "x <- rnorm(1000,30,10) \n",
    "hist(x,freq=F) \n",
    "lines(density(x),col='blue') \n",
    "box() "
   ]
  },
  {
   "cell_type": "code",
   "execution_count": 9,
   "metadata": {},
   "outputs": [
    {
     "name": "stdout",
     "output_type": "stream",
     "text": [
      "\n",
      "  The decimal point is at the |\n",
      "\n",
      "  2 | 8\n",
      "  3 | 455778899\n",
      "  4 | 00111222222223334444455555556666677788888889\n",
      "  5 | 00000111122334444555667888899\n",
      "  6 | 000122344488\n",
      "  7 | 01338\n",
      "\n"
     ]
    }
   ],
   "source": [
    "# 茎叶图很直观的表现出数据的分布情况\n",
    "x <- rnorm(100,5,1) \n",
    "stem(x) "
   ]
  },
  {
   "cell_type": "code",
   "execution_count": 10,
   "metadata": {},
   "outputs": [
    {
     "data": {
      "image/png": "[encoded data removed]",
      "text/plain": [
       "plot without title"
      ]
     },
     "metadata": {},
     "output_type": "display_data",
     "source": "R display func"
    }
   ],
   "source": [
    "x <- rnorm(10,30,10);\n",
    "barplot(x)  # 条形图\n",
    "box() # 在当前图上加个方框"
   ]
  },
  {
   "cell_type": "code",
   "execution_count": 11,
   "metadata": {},
   "outputs": [
    {
     "data": {
      "image/png": "[encoded data removed]",
      "text/plain": [
       "plot without title"
      ]
     },
     "metadata": {},
     "output_type": "display_data",
     "source": "R display func"
    }
   ],
   "source": [
    "# 饼图\n",
    "x <-1:5;\n",
    "pie(x,col=rainbow(5)) \n",
    "box() "
   ]
  },
  {
   "cell_type": "markdown",
   "metadata": {},
   "source": [
    "箱线图\n",
    "中间黑线为中位数位置；\n",
    "上下框线为上下四分位数位置；上下触须为1.5倍四分位数间距；如果有孤立点表示异常值 "
   ]
  },
  {
   "cell_type": "code",
   "execution_count": 12,
   "metadata": {},
   "outputs": [
    {
     "data": {
      "image/png": "[encoded data removed]",
      "text/plain": [
       "plot without title"
      ]
     },
     "metadata": {},
     "output_type": "display_data",
     "source": "R display func"
    }
   ],
   "source": [
    "x <-rnorm(10,10,3);\n",
    "boxplot(x) "
   ]
  },
  {
   "cell_type": "code",
   "execution_count": 13,
   "metadata": {},
   "outputs": [
    {
     "data": {
      "image/png": "[encoded data removed]",
      "text/plain": [
       "plot without title"
      ]
     },
     "metadata": {},
     "output_type": "display_data",
     "source": "R display func"
    }
   ],
   "source": [
    "# 向日葵图\n",
    "data(iris) #R里面自带的数据集 \n",
    "sunflowerplot(iris[,3:4]) "
   ]
  },
  {
   "cell_type": "code",
   "execution_count": 14,
   "metadata": {},
   "outputs": [
    {
     "data": {
      "image/png": "[encoded data removed]",
      "text/plain": [
       "plot without title"
      ]
     },
     "metadata": {},
     "output_type": "display_data",
     "source": "R display func"
    }
   ],
   "source": [
    "# 绘制矩阵或数据框的二元图\n",
    "data(iris) \n",
    "pairs(iris[1:4], main = 'Anderson’s Iris Data – 3 species',pch = 21, bg = c('red', 'green3', 'blue')[unclass(iris$Species)]) "
   ]
  },
  {
   "cell_type": "code",
   "execution_count": 15,
   "metadata": {},
   "outputs": [
    {
     "data": {
      "image/png": "[encoded data removed]",
      "text/plain": [
       "Plot with title \"Normal Q-Q Plot\""
      ]
     },
     "metadata": {},
     "output_type": "display_data",
     "source": "R display func"
    }
   ],
   "source": [
    "# QQ图\n",
    "# 如果向量为正态分布则数据点基本在一条直线上 \n",
    "x <- rnorm(500,10,5);\n",
    "qqnorm(x) "
   ]
  },
  {
   "cell_type": "code",
   "execution_count": 17,
   "metadata": {},
   "outputs": [
    {
     "data": {
      "image/png": "[encoded data removed]",
      "text/plain": [
       "plot without title"
      ]
     },
     "metadata": {},
     "output_type": "display_data",
     "source": "R display func"
    }
   ],
   "source": [
    "# 根据指定函数绘制指定范围的曲线图\n",
    "curve(sin, -2*pi, 2*pi, xname = 't') "
   ]
  },
  {
   "cell_type": "code",
   "execution_count": 18,
   "metadata": {},
   "outputs": [
    {
     "data": {
      "image/png": "[encoded data removed]",
      "text/plain": [
       "Plot with title \"实验图\""
      ]
     },
     "metadata": {},
     "output_type": "display_data",
     "source": "R display func"
    }
   ],
   "source": [
    "# 补充和修饰\n",
    "x <- 1:50 \n",
    "y <- rnorm(50,10,5) \n",
    "plot(x,y,type='n',xlab='数据索引',ylab='随机数点',xlim=c(1,50),ylim=c(-20,20),main='实验图',sub='随机数绘图') #高水平绘图函数 "
   ]
  },
  {
   "cell_type": "code",
   "execution_count": 20,
   "metadata": {},
   "outputs": [
    {
     "ename": "ERROR",
     "evalue": "Error in plot.xy(xy.coords(x, y), type = type, ...): plot.new has not been called yet\n",
     "execution_count": 20,
     "output_type": "error",
     "traceback": [
      "Error in plot.xy(xy.coords(x, y), type = type, ...): plot.new has not been called yet\nTraceback:\n",
      "1. points(x, y, col = \"blue\")",
      "2. points.default(x, y, col = \"blue\")",
      "3. plot.xy(xy.coords(x, y), type = type, ...)"
     ]
    }
   ],
   "source": [
    "points(x,y,col='blue') #低水平绘图函数 "
   ]
  },
  {
   "cell_type": "code",
   "execution_count": 21,
   "metadata": {},
   "outputs": [
    {
     "ename": "ERROR",
     "evalue": "Error in plot.xy(xy.coords(x, y), type = type, ...): plot.new has not been called yet\n",
     "execution_count": 21,
     "output_type": "error",
     "traceback": [
      "Error in plot.xy(xy.coords(x, y), type = type, ...): plot.new has not been called yet\nTraceback:\n",
      "1. lines(x, y, col = \"red\")",
      "2. lines.default(x, y, col = \"red\")",
      "3. plot.xy(xy.coords(x, y), type = type, ...)"
     ]
    }
   ],
   "source": [
    "lines(x,y,col='red') #低水平绘图函数 "
   ]
  },
  {
   "cell_type": "code",
   "execution_count": 23,
   "metadata": {},
   "outputs": [],
   "source": [
    "# text(5,max(y),”随机数据点”) # 在指定坐标位置放置文本 "
   ]
  },
  {
   "cell_type": "code",
   "execution_count": 24,
   "metadata": {},
   "outputs": [],
   "source": [
    "# mtext('横轴下方文字',side=1) # 横轴、纵轴上放置文字 \n",
    "# mtext('纵轴左方文字',side=2) \n",
    "# mtext('横轴上方文字',side=3) \n",
    "# mtext('纵轴右方文字',side=4) "
   ]
  },
  {
   "cell_type": "code",
   "execution_count": 25,
   "metadata": {},
   "outputs": [],
   "source": [
    "# segments(10,10,50,-10) # 根据起点、终点坐标绘制线段 "
   ]
  },
  {
   "cell_type": "code",
   "execution_count": 26,
   "metadata": {},
   "outputs": [],
   "source": [
    "# arrows(10,-10,40,20,angle=15,code=1) # 绘制带箭头线段，可以设置箭头角度，有几个箭头（1起点箭头、2终点箭头，3双箭头） "
   ]
  },
  {
   "cell_type": "code",
   "execution_count": 27,
   "metadata": {},
   "outputs": [],
   "source": [
    "# abline(-20,.5) # 在图上绘制直线，第一个参数为截距，第二个参数为斜率 "
   ]
  },
  {
   "cell_type": "code",
   "execution_count": 29,
   "metadata": {},
   "outputs": [],
   "source": [
    "# abline(h=0,col='red') # 在图上绘制水平线或垂直线，可以标示临界位置，很好用的功能 "
   ]
  },
  {
   "cell_type": "code",
   "execution_count": 30,
   "metadata": {},
   "outputs": [],
   "source": [
    "# legend(0,max(y),'随机点连线') "
   ]
  },
  {
   "cell_type": "code",
   "execution_count": 31,
   "metadata": {},
   "outputs": [
    {
     "data": {
      "image/png": "[encoded data removed]",
      "text/plain": [
       "Plot with title \"实验图\""
      ]
     },
     "metadata": {},
     "output_type": "display_data",
     "source": "R display func"
    }
   ],
   "source": [
    "x <- 1:50 \n",
    "y <- rnorm(50,10,5) \n",
    "plot(x,y,type='n',xlab='数据索引',ylab='随机数点',xlim=c(1,50),ylim=c(-20,20),main='实验图') "
   ]
  },
  {
   "cell_type": "code",
   "execution_count": 32,
   "metadata": {},
   "outputs": [
    {
     "ename": "ERROR",
     "evalue": "Error in locator(3, type = \"p\"): plot.new has not been called yet\n",
     "execution_count": 32,
     "output_type": "error",
     "traceback": [
      "Error in locator(3, type = \"p\"): plot.new has not been called yet\nTraceback:\n",
      "1. print(locator(3, type = \"p\"))",
      "2. locator(3, type = \"p\")"
     ]
    }
   ],
   "source": [
    "print(locator(3,type='p')) # 图像进入定位模式，第一个参数决定获取几个点的坐标信息，第二个参数决定绘图方式 "
   ]
  },
  {
   "cell_type": "code",
   "execution_count": null,
   "metadata": {},
   "outputs": [],
   "source": [
    "# rect(5,5,20,20) # 在已经成功绘制的图形内部绘制一个长方形 \n",
    "# polygon(c(20,10,30,40,45),c(-10,0,15,4,-10)) # 在高级图形内部绘制多边形"
   ]
  },
  {
   "cell_type": "code",
   "execution_count": null,
   "metadata": {},
   "outputs": [],
   "source": [
    "# 生成一个绘图窗口在其中绘制图形后用savePlot()函数保存\n",
    "windows() \n",
    "plot(1:10) \n",
    "rect(1, 5, 3, 7, col='blue') \n",
    "savePlot('test01', type='jpg',device=dev.cur(),restoreConsole=TRUE)"
   ]
  },
  {
   "cell_type": "code",
   "execution_count": null,
   "metadata": {},
   "outputs": [],
   "source": [
    "jpeg(file='myplot.jpeg') # 直接在jepg对象上绘图\n",
    "plot(1:10) \n",
    "rect(1, 5, 3, 7, col='blue') \n",
    "dev.off() # 保存退出"
   ]
  }
 ],
 "metadata": {
  "kernelspec": {
   "display_name": "R",
   "language": "R",
   "name": "ir"
  },
  "language_info": {
   "codemirror_mode": "r",
   "file_extension": ".r",
   "mimetype": "text/x-r-source",
   "name": "R",
   "pygments_lexer": "r",
   "version": "3.4.3"
  }
 },
 "nbformat": 4,
 "nbformat_minor": 2
}
