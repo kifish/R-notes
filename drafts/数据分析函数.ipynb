{
 "cells": [
  {
   "cell_type": "markdown",
   "metadata": {},
   "source": [
    "# R的数据分析函数"
   ]
  },
  {
   "cell_type": "code",
   "execution_count": 1,
   "metadata": {},
   "outputs": [
    {
     "data": {
      "text/html": [],
      "text/latex": [],
      "text/markdown": [],
      "text/plain": [
       "character(0)"
      ]
     },
     "metadata": {},
     "output_type": "display_data"
    }
   ],
   "source": [
    "#显示加载到内存中的变量和函数名称 \n",
    "ls()"
   ]
  },
  {
   "cell_type": "code",
   "execution_count": 2,
   "metadata": {},
   "outputs": [
    {
     "data": {},
     "metadata": {},
     "output_type": "display_data"
    }
   ],
   "source": [
    "#显示加载到内存中的变量和函数的详细信息 \n",
    "ls.str()"
   ]
  },
  {
   "cell_type": "code",
   "execution_count": 11,
   "metadata": {},
   "outputs": [
    {
     "name": "stdout",
     "output_type": "stream",
     "text": [
      " [1] 1 1 1 1 1 1 1 1 1 1\n",
      "[1] \"USD\" \"USD\" \"USD\" \"USD\" \"USD\"\n"
     ]
    }
   ],
   "source": [
    "# 生成一组重复数据。使用常数初始化指定长度的向量： \n",
    "x <- rep(1,10);\n",
    "print(x) \n",
    "x <- rep('USD',5);\n",
    "print(x) \n"
   ]
  },
  {
   "cell_type": "code",
   "execution_count": 12,
   "metadata": {},
   "outputs": [
    {
     "name": "stdout",
     "output_type": "stream",
     "text": [
      " [1] 38  7 23  6 70 39 83 79 30 27\n",
      " [1] 1 0 1 0 0 1 1 1 1 1 1 0 0 1 1 1 0 1 1 0\n"
     ]
    }
   ],
   "source": [
    "# sample()取样函数从一组数据中随机取出指定数量的数据 \n",
    "# replace参数决定是否可以重复取数 \n",
    "y <- sample(x=1:100,size=10,replace=F);\n",
    "print(y) \n",
    "y <- sample(x=c(0,1),size=20,replace=T);\n",
    "print(y) "
   ]
  },
  {
   "cell_type": "code",
   "execution_count": 13,
   "metadata": {},
   "outputs": [
    {
     "name": "stdout",
     "output_type": "stream",
     "text": [
      " [1]  84.41965 118.67698 110.43425  87.16716 100.54518 122.29677  81.63525\n",
      " [8]  86.40491 107.38992  84.93556\n"
     ]
    }
   ],
   "source": [
    "#使用正态分布随机数生成函数生成指定数量、平均值、标准差的随机数： \n",
    "x <- rnorm(n=10,mean=100,sd=20);\n",
    "print(x)"
   ]
  },
  {
   "cell_type": "code",
   "execution_count": 3,
   "metadata": {},
   "outputs": [
    {
     "name": "stdout",
     "output_type": "stream",
     "text": [
      "[1] 100\n",
      "[1] 1\n"
     ]
    }
   ],
   "source": [
    "# 计算返回向量中最大、最小的元素的索引值 \n",
    "x <- 1:100 \n",
    "print(which.max(x)) \n",
    "print(which.min(x))"
   ]
  },
  {
   "cell_type": "code",
   "execution_count": 4,
   "metadata": {},
   "outputs": [
    {
     "name": "stdout",
     "output_type": "stream",
     "text": [
      "[1] 3\n",
      "[1] 1\n"
     ]
    }
   ],
   "source": [
    "# 如果向量中存在多个相等的最大、最小值返回的是第一个最大、最小值的索引  (从左往右找)\n",
    "x <- c(1,2,5,2,1,5) \n",
    "print(which.max(x)) \n",
    "print(which.min(x))"
   ]
  },
  {
   "cell_type": "code",
   "execution_count": 5,
   "metadata": {},
   "outputs": [
    {
     "name": "stdout",
     "output_type": "stream",
     "text": [
      "[1] 5\n",
      "[1] 1\n"
     ]
    }
   ],
   "source": [
    "# 返回最大、最小值 \n",
    "print(max(x)) \n",
    "print(min(x))"
   ]
  },
  {
   "cell_type": "code",
   "execution_count": 6,
   "metadata": {},
   "outputs": [
    {
     "name": "stdout",
     "output_type": "stream",
     "text": [
      "[1] 2 3 4 5 6 7 8 9\n"
     ]
    }
   ],
   "source": [
    "# 对向量进行排序，默认采用升序排序方式 \n",
    "x <- c(3,5,2,8,6,9,7,4) \n",
    "print(sort(x)) "
   ]
  },
  {
   "cell_type": "code",
   "execution_count": 7,
   "metadata": {},
   "outputs": [
    {
     "name": "stdout",
     "output_type": "stream",
     "text": [
      "[1] 9 8 7 6 5 4 3 2\n"
     ]
    }
   ],
   "source": [
    "print(sort(x,decreasing=T)) # 默认的降序参数设置为F，如果设置为T则采用降序排序"
   ]
  },
  {
   "cell_type": "code",
   "execution_count": 9,
   "metadata": {},
   "outputs": [
    {
     "data": {
      "text/html": [
       "<ol class=list-inline>\n",
       "\t<li>'2014-1-1'</li>\n",
       "\t<li>'2014-3-1'</li>\n",
       "\t<li>'2014-3-18'</li>\n",
       "\t<li>'2014-2-14'</li>\n",
       "\t<li>'2014-4-26'</li>\n",
       "\t<li>'2014-4-1'</li>\n",
       "\t<li>'2014-1-24'</li>\n",
       "</ol>\n"
      ],
      "text/latex": [
       "\\begin{enumerate*}\n",
       "\\item '2014-1-1'\n",
       "\\item '2014-3-1'\n",
       "\\item '2014-3-18'\n",
       "\\item '2014-2-14'\n",
       "\\item '2014-4-26'\n",
       "\\item '2014-4-1'\n",
       "\\item '2014-1-24'\n",
       "\\end{enumerate*}\n"
      ],
      "text/markdown": [
       "1. '2014-1-1'\n",
       "2. '2014-3-1'\n",
       "3. '2014-3-18'\n",
       "4. '2014-2-14'\n",
       "5. '2014-4-26'\n",
       "6. '2014-4-1'\n",
       "7. '2014-1-24'\n",
       "\n",
       "\n"
      ],
      "text/plain": [
       "[1] \"2014-1-1\"  \"2014-3-1\"  \"2014-3-18\" \"2014-2-14\" \"2014-4-26\" \"2014-4-1\" \n",
       "[7] \"2014-1-24\""
      ]
     },
     "metadata": {},
     "output_type": "display_data"
    }
   ],
   "source": [
    "# 日期字符串向量 \n",
    "szDate <- c('2014-1-1','2014-3-1','2014-3-18','2014-2-14','2014-4-26','2014-4-1','2014-1-24')\n",
    "szDate"
   ]
  },
  {
   "cell_type": "code",
   "execution_count": 11,
   "metadata": {},
   "outputs": [
    {
     "data": {
      "text/html": [
       "<ol class=list-inline>\n",
       "\t<li><time datetime=\"2014-01-01\">2014-01-01</time></li>\n",
       "\t<li><time datetime=\"2014-03-01\">2014-03-01</time></li>\n",
       "\t<li><time datetime=\"2014-03-18\">2014-03-18</time></li>\n",
       "\t<li><time datetime=\"2014-02-14\">2014-02-14</time></li>\n",
       "\t<li><time datetime=\"2014-04-26\">2014-04-26</time></li>\n",
       "\t<li><time datetime=\"2014-04-01\">2014-04-01</time></li>\n",
       "\t<li><time datetime=\"2014-01-24\">2014-01-24</time></li>\n",
       "</ol>\n"
      ],
      "text/latex": [
       "\\begin{enumerate*}\n",
       "\\item 2014-01-01\n",
       "\\item 2014-03-01\n",
       "\\item 2014-03-18\n",
       "\\item 2014-02-14\n",
       "\\item 2014-04-26\n",
       "\\item 2014-04-01\n",
       "\\item 2014-01-24\n",
       "\\end{enumerate*}\n"
      ],
      "text/markdown": [
       "1. 2014-01-01\n",
       "2. 2014-03-01\n",
       "3. 2014-03-18\n",
       "4. 2014-02-14\n",
       "5. 2014-04-26\n",
       "6. 2014-04-01\n",
       "7. 2014-01-24\n",
       "\n",
       "\n"
      ],
      "text/plain": [
       "[1] \"2014-01-01\" \"2014-03-01\" \"2014-03-18\" \"2014-02-14\" \"2014-04-26\"\n",
       "[6] \"2014-04-01\" \"2014-01-24\""
      ]
     },
     "metadata": {},
     "output_type": "display_data"
    }
   ],
   "source": [
    "# 通过as.Date()函数生成日期序列 \n",
    "# 注意：R语言中很多函数都可以使用向量做参数 \n",
    "t <- as.Date(szDate)\n",
    "t"
   ]
  },
  {
   "cell_type": "code",
   "execution_count": 12,
   "metadata": {},
   "outputs": [
    {
     "name": "stdout",
     "output_type": "stream",
     "text": [
      "[1] \"2014-01-01\" \"2014-01-24\" \"2014-02-14\" \"2014-03-01\" \"2014-03-18\"\n",
      "[6] \"2014-04-01\" \"2014-04-26\"\n"
     ]
    }
   ],
   "source": [
    "# sort()函数可以对日期序列做排序操作 \n",
    "t <- sort(t);\n",
    "print(t)"
   ]
  },
  {
   "cell_type": "code",
   "execution_count": 13,
   "metadata": {},
   "outputs": [
    {
     "name": "stdout",
     "output_type": "stream",
     "text": [
      "[1] 3 5 2 8 6 9 7 4\n",
      "[1] 4 7 9 6 8 2 5 3\n"
     ]
    }
   ],
   "source": [
    "# rev()函数对向量做逆序处理 \n",
    "x <- c(3,5,2,8,6,9,7,4) \n",
    "print(x);\n",
    "print(rev(x))"
   ]
  },
  {
   "cell_type": "code",
   "execution_count": 14,
   "metadata": {},
   "outputs": [
    {
     "name": "stdout",
     "output_type": "stream",
     "text": [
      "[1] \"2014-01-01\" \"2014-01-24\" \"2014-02-14\" \"2014-03-01\" \"2014-03-18\"\n",
      "[6] \"2014-04-01\" \"2014-04-26\"\n",
      "[1] \"2014-04-26\" \"2014-04-01\" \"2014-03-18\" \"2014-03-01\" \"2014-02-14\"\n",
      "[6] \"2014-01-24\" \"2014-01-01\"\n"
     ]
    }
   ],
   "source": [
    "# 上例中的日期型数据同样可以逆序排列 \n",
    "print(t);\n",
    "print(rev(t))"
   ]
  },
  {
   "cell_type": "code",
   "execution_count": 15,
   "metadata": {},
   "outputs": [
    {
     "name": "stdout",
     "output_type": "stream",
     "text": [
      "[1] \"list\"\n",
      "List of 2\n",
      " $ lengths: int [1:5] 1 1 3 2 7\n",
      " $ values : num [1:5] 1 -1 1 -1 1\n",
      " - attr(*, \"class\")= chr \"rle\"\n"
     ]
    }
   ],
   "source": [
    "# 获取游程的信息 \n",
    "x <- c(1,-1,1,1,1,-1,-1,1,1,1,1,1,1,1) \n",
    "y <- rle(x) \n",
    "print(mode(y)) \n",
    "str(y)"
   ]
  },
  {
   "cell_type": "code",
   "execution_count": 17,
   "metadata": {},
   "outputs": [
    {
     "name": "stdout",
     "output_type": "stream",
     "text": [
      " [1]  9.438547 14.200924  4.612827  9.916540  8.958544 12.164222  4.873348\n",
      " [8] 13.305246 13.168778  4.159194\n"
     ]
    }
   ],
   "source": [
    "# 按照大小对向量数据做分类处理，可以用于绘制直方图 \n",
    "x <- rnorm(n=10,mean=10,5) # 方差 标准差?为5\n",
    "print(x) "
   ]
  },
  {
   "cell_type": "code",
   "execution_count": 18,
   "metadata": {},
   "outputs": [
    {
     "name": "stdout",
     "output_type": "stream",
     "text": [
      " [1] (0,10]  (10,20] (0,10]  (0,10]  (0,10]  (10,20] (0,10]  (10,20] (10,20]\n",
      "[10] (0,10] \n",
      "Levels: (-20,-10] (-10,0] (0,10] (10,20]\n",
      "(-20,-10]   (-10,0]    (0,10]   (10,20] \n",
      "        0         0         6         4 \n"
     ]
    }
   ],
   "source": [
    "breaks <- c(-20,-10,0,10,20) # 分割数据的边界数值向量 \n",
    "y <- cut(x,breaks)\n",
    "print(y) # 每个数据所处的范围\n",
    "print(summary(y)) # 分布情况"
   ]
  },
  {
   "cell_type": "markdown",
   "metadata": {},
   "source": [
    "在向量中查找指定数据（数据可用向量形式给出）,此函数返回一个和原向量等长的向量 \n",
    "在匹配的位置上标记为N(第N个待匹配数据就标记N),在不匹配的位置标记为NA "
   ]
  },
  {
   "cell_type": "code",
   "execution_count": 19,
   "metadata": {},
   "outputs": [
    {
     "name": "stdout",
     "output_type": "stream",
     "text": [
      "[1] NA NA NA  1 NA  1 NA\n"
     ]
    }
   ],
   "source": [
    "x <- c(2,5,1,4,6,4,3) \n",
    "print(match(x,4)) "
   ]
  },
  {
   "cell_type": "code",
   "execution_count": 20,
   "metadata": {},
   "outputs": [
    {
     "name": "stdout",
     "output_type": "stream",
     "text": [
      "[1] NA  2 NA  1 NA  1 NA\n"
     ]
    }
   ],
   "source": [
    "print(match(x,c(4,5)))"
   ]
  },
  {
   "cell_type": "code",
   "execution_count": 21,
   "metadata": {},
   "outputs": [
    {
     "name": "stdout",
     "output_type": "stream",
     "text": [
      "[1] 10\n"
     ]
    }
   ],
   "source": [
    "# 计算组合数/排列数 \n",
    "print(choose(5,2)) "
   ]
  },
  {
   "cell_type": "code",
   "execution_count": 22,
   "metadata": {},
   "outputs": [
    {
     "name": "stdout",
     "output_type": "stream",
     "text": [
      "[1] 6\n"
     ]
    }
   ],
   "source": [
    "print(factorial(3))"
   ]
  },
  {
   "cell_type": "code",
   "execution_count": 23,
   "metadata": {},
   "outputs": [
    {
     "name": "stdout",
     "output_type": "stream",
     "text": [
      "sign()函数运算结果：0,1,-1"
     ]
    }
   ],
   "source": [
    "# 符号函数 \n",
    "# 每日股市上涨下跌收益率有正有负可以用sign()函数生成1,-1,0组成的游程序列 \n",
    "cat('sign()函数运算结果：',sign(0),',',sign(3.14159),',',sign(-1024),sep='')"
   ]
  },
  {
   "cell_type": "code",
   "execution_count": 24,
   "metadata": {},
   "outputs": [
    {
     "name": "stdout",
     "output_type": "stream",
     "text": [
      " [1]  1  2 NA  4  5 NA  7  6  8  9\n"
     ]
    }
   ],
   "source": [
    "# 删除向量、矩阵、数据框中的NA值 \n",
    "x <- c(1,2,NA,4,5,NA,7,6,8,9) \n",
    "print(x)"
   ]
  },
  {
   "cell_type": "code",
   "execution_count": 31,
   "metadata": {},
   "outputs": [
    {
     "name": "stdout",
     "output_type": "stream",
     "text": [
      " [1]  1  2 NA  4  5 NA  7  6  8  9\n"
     ]
    }
   ],
   "source": [
    "y <- na.omit(x);\n",
    "print(x)"
   ]
  },
  {
   "cell_type": "code",
   "execution_count": 32,
   "metadata": {},
   "outputs": [
    {
     "name": "stdout",
     "output_type": "stream",
     "text": [
      "[1] 8\n"
     ]
    }
   ],
   "source": [
    "print(length(y));"
   ]
  },
  {
   "cell_type": "code",
   "execution_count": 33,
   "metadata": {},
   "outputs": [
    {
     "name": "stdout",
     "output_type": "stream",
     "text": [
      "[1] \"numeric\"\n"
     ]
    }
   ],
   "source": [
    "print(class(y)) "
   ]
  },
  {
   "cell_type": "code",
   "execution_count": 34,
   "metadata": {},
   "outputs": [
    {
     "name": "stdout",
     "output_type": "stream",
     "text": [
      "[1] 1 2 4 5 7 6 8 9\n",
      "attr(,\"na.action\")\n",
      "[1] 3 6\n",
      "attr(,\"class\")\n",
      "[1] \"omit\"\n"
     ]
    }
   ],
   "source": [
    "print(y); "
   ]
  },
  {
   "cell_type": "code",
   "execution_count": 35,
   "metadata": {},
   "outputs": [
    {
     "name": "stdout",
     "output_type": "stream",
     "text": [
      " [1]  1  2 NA  4  5 NA  7  6  8  9\n",
      "     [,1] [,2]\n",
      "[1,]    1   NA\n",
      "[2,]    2    7\n",
      "[3,]   NA    6\n",
      "[4,]    4    8\n",
      "[5,]    5    9\n"
     ]
    }
   ],
   "source": [
    "print(x)\n",
    "dim(x) <- c(5,2) \n",
    "print(x)"
   ]
  },
  {
   "cell_type": "code",
   "execution_count": 36,
   "metadata": {},
   "outputs": [
    {
     "name": "stdout",
     "output_type": "stream",
     "text": [
      "     [,1] [,2]\n",
      "[1,]    2    7\n",
      "[2,]    4    8\n",
      "[3,]    5    9\n",
      "attr(,\"na.action\")\n",
      "[1] 3 1\n",
      "attr(,\"class\")\n",
      "[1] \"omit\"\n"
     ]
    }
   ],
   "source": [
    "print(na.omit(x)) # 删除数组中的NA值的规则是删除含有NA值的整行数据"
   ]
  },
  {
   "cell_type": "markdown",
   "metadata": {},
   "source": [
    "交易品的历史数据中可能存在NA数值，使用na.omit()函数将会删除整条历史记录 \n",
    "检测向量、矩阵、数据框中是否包含NA数值，如果包含返回错误信息 "
   ]
  },
  {
   "cell_type": "code",
   "execution_count": 38,
   "metadata": {},
   "outputs": [
    {
     "ename": "ERROR",
     "evalue": "Error in na.fail.default(x): missing values in object\n",
     "execution_count": 38,
     "output_type": "error",
     "traceback": [
      "Error in na.fail.default(x): missing values in object\nTraceback:\n",
      "1. na.fail(x)",
      "2. na.fail.default(x)",
      "3. stop(\"missing values in object\")"
     ]
    }
   ],
   "source": [
    "x <- c(1,2,NA,4,5,NA,7,6,8,9) \n",
    "y <- na.omit(x) \n",
    "na.fail(x) "
   ]
  },
  {
   "cell_type": "code",
   "execution_count": 39,
   "metadata": {},
   "outputs": [
    {
     "data": {
      "text/html": [
       "<ol class=list-inline>\n",
       "\t<li>1</li>\n",
       "\t<li>2</li>\n",
       "\t<li>4</li>\n",
       "\t<li>5</li>\n",
       "\t<li>7</li>\n",
       "\t<li>6</li>\n",
       "\t<li>8</li>\n",
       "\t<li>9</li>\n",
       "</ol>\n"
      ],
      "text/latex": [
       "\\begin{enumerate*}\n",
       "\\item 1\n",
       "\\item 2\n",
       "\\item 4\n",
       "\\item 5\n",
       "\\item 7\n",
       "\\item 6\n",
       "\\item 8\n",
       "\\item 9\n",
       "\\end{enumerate*}\n"
      ],
      "text/markdown": [
       "1. 1\n",
       "2. 2\n",
       "3. 4\n",
       "4. 5\n",
       "5. 7\n",
       "6. 6\n",
       "7. 8\n",
       "8. 9\n",
       "\n",
       "\n"
      ],
      "text/plain": [
       "[1] 1 2 4 5 7 6 8 9\n",
       "attr(,\"na.action\")\n",
       "[1] 3 6\n",
       "attr(,\"class\")\n",
       "[1] \"omit\""
      ]
     },
     "metadata": {},
     "output_type": "display_data"
    }
   ],
   "source": [
    "na.fail(y) "
   ]
  },
  {
   "cell_type": "code",
   "execution_count": 40,
   "metadata": {},
   "outputs": [
    {
     "ename": "ERROR",
     "evalue": "Error in na.fail.default(x): missing values in object\n",
     "execution_count": 40,
     "output_type": "error",
     "traceback": [
      "Error in na.fail.default(x): missing values in object\nTraceback:\n",
      "1. na.fail(x)",
      "2. na.fail.default(x)",
      "3. stop(\"missing values in object\")"
     ]
    }
   ],
   "source": [
    "dim(x) <- c(2,5) \n",
    "na.fail(x)"
   ]
  },
  {
   "cell_type": "code",
   "execution_count": 41,
   "metadata": {},
   "outputs": [
    {
     "name": "stdout",
     "output_type": "stream",
     "text": [
      "[1]  1  2 NA  5  4  3  9\n"
     ]
    }
   ],
   "source": [
    "# 去除向量中的重复数据 \n",
    "x <- c(1,2,NA,2,5,NA,4,3,4,9) \n",
    "print(unique(x))"
   ]
  },
  {
   "cell_type": "code",
   "execution_count": 42,
   "metadata": {},
   "outputs": [
    {
     "data": {
      "text/html": [
       "<table>\n",
       "<thead><tr><th scope=col>Ozone</th><th scope=col>Solar.R</th><th scope=col>Wind</th><th scope=col>Temp</th><th scope=col>Month</th><th scope=col>Day</th></tr></thead>\n",
       "<tbody>\n",
       "\t<tr><td>41  </td><td>190 </td><td> 7.4</td><td>67  </td><td>5   </td><td>1   </td></tr>\n",
       "\t<tr><td>36  </td><td>118 </td><td> 8.0</td><td>72  </td><td>5   </td><td>2   </td></tr>\n",
       "\t<tr><td>12  </td><td>149 </td><td>12.6</td><td>74  </td><td>5   </td><td>3   </td></tr>\n",
       "\t<tr><td>18  </td><td>313 </td><td>11.5</td><td>62  </td><td>5   </td><td>4   </td></tr>\n",
       "\t<tr><td>NA  </td><td> NA </td><td>14.3</td><td>56  </td><td>5   </td><td>5   </td></tr>\n",
       "\t<tr><td>28  </td><td> NA </td><td>14.9</td><td>66  </td><td>5   </td><td>6   </td></tr>\n",
       "</tbody>\n",
       "</table>\n"
      ],
      "text/latex": [
       "\\begin{tabular}{r|llllll}\n",
       " Ozone & Solar.R & Wind & Temp & Month & Day\\\\\n",
       "\\hline\n",
       "\t 41   & 190  &  7.4 & 67   & 5    & 1   \\\\\n",
       "\t 36   & 118  &  8.0 & 72   & 5    & 2   \\\\\n",
       "\t 12   & 149  & 12.6 & 74   & 5    & 3   \\\\\n",
       "\t 18   & 313  & 11.5 & 62   & 5    & 4   \\\\\n",
       "\t NA   &  NA  & 14.3 & 56   & 5    & 5   \\\\\n",
       "\t 28   &  NA  & 14.9 & 66   & 5    & 6   \\\\\n",
       "\\end{tabular}\n"
      ],
      "text/markdown": [
       "\n",
       "Ozone | Solar.R | Wind | Temp | Month | Day | \n",
       "|---|---|---|---|---|---|\n",
       "| 41   | 190  |  7.4 | 67   | 5    | 1    | \n",
       "| 36   | 118  |  8.0 | 72   | 5    | 2    | \n",
       "| 12   | 149  | 12.6 | 74   | 5    | 3    | \n",
       "| 18   | 313  | 11.5 | 62   | 5    | 4    | \n",
       "| NA   |  NA  | 14.3 | 56   | 5    | 5    | \n",
       "| 28   |  NA  | 14.9 | 66   | 5    | 6    | \n",
       "\n",
       "\n"
      ],
      "text/plain": [
       "  Ozone Solar.R Wind Temp Month Day\n",
       "1 41    190      7.4 67   5     1  \n",
       "2 36    118      8.0 72   5     2  \n",
       "3 12    149     12.6 74   5     3  \n",
       "4 18    313     11.5 62   5     4  \n",
       "5 NA     NA     14.3 56   5     5  \n",
       "6 28     NA     14.9 66   5     6  "
      ]
     },
     "metadata": {},
     "output_type": "display_data"
    }
   ],
   "source": [
    "# subset()从数据框中取出满足条件的子集 \n",
    "# 对于历史行情数据、历史交易记录可以很方便的取出其中感兴趣的数据 \n",
    "data(airquality) \n",
    "head(airquality) "
   ]
  },
  {
   "cell_type": "code",
   "execution_count": 44,
   "metadata": {},
   "outputs": [
    {
     "data": {
      "text/html": [
       "<table>\n",
       "<thead><tr><th></th><th scope=col>Ozone</th><th scope=col>Solar.R</th><th scope=col>Wind</th><th scope=col>Temp</th><th scope=col>Month</th><th scope=col>Day</th></tr></thead>\n",
       "<tbody>\n",
       "\t<tr><th scope=row>29</th><td>45  </td><td>252 </td><td>14.9</td><td>81  </td><td>5   </td><td>29  </td></tr>\n",
       "</tbody>\n",
       "</table>\n"
      ],
      "text/latex": [
       "\\begin{tabular}{r|llllll}\n",
       "  & Ozone & Solar.R & Wind & Temp & Month & Day\\\\\n",
       "\\hline\n",
       "\t29 & 45   & 252  & 14.9 & 81   & 5    & 29  \\\\\n",
       "\\end{tabular}\n"
      ],
      "text/markdown": [
       "\n",
       "| <!--/--> | Ozone | Solar.R | Wind | Temp | Month | Day | \n",
       "|---|\n",
       "| 29 | 45   | 252  | 14.9 | 81   | 5    | 29   | \n",
       "\n",
       "\n"
      ],
      "text/plain": [
       "   Ozone Solar.R Wind Temp Month Day\n",
       "29 45    252     14.9 81   5     29 "
      ]
     },
     "metadata": {},
     "output_type": "display_data"
    }
   ],
   "source": [
    "newset <- subset(airquality,Temp > 80 & Month == 5,select = c(Ozone:Day)) # select 选择的列\n",
    "head(newset)"
   ]
  },
  {
   "cell_type": "code",
   "execution_count": null,
   "metadata": {},
   "outputs": [],
   "source": []
  }
 ],
 "metadata": {
  "kernelspec": {
   "display_name": "R",
   "language": "R",
   "name": "ir"
  },
  "language_info": {
   "codemirror_mode": "r",
   "file_extension": ".r",
   "mimetype": "text/x-r-source",
   "name": "R",
   "pygments_lexer": "r",
   "version": "3.4.3"
  }
 },
 "nbformat": 4,
 "nbformat_minor": 2
}
