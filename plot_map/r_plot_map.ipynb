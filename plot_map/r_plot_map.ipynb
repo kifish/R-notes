{
 "cells": [
  {
   "cell_type": "code",
   "execution_count": null,
   "metadata": {},
   "outputs": [],
   "source": [
    "# library(stringr)\n",
    "# library(jsonlite)\n",
    "# library(data.table)\n",
    "# library(ggplot2)\n",
    "# library(cowplot)\n",
    "# library(RColorBrewer)\n",
    "# library(devtools)\n",
    "# library(ggiraph) #ggplot交互性 \n",
    "# library(maptools)\n",
    "# library(plyr)\n",
    "# library(mapproj)\n",
    "# library(xgboost)\n",
    "# library(magrittr)\n",
    "# library(dplyr)\n",
    "# library(Matrix)\n",
    "# library(car)\n",
    "# library(caret)\n",
    "# library(data.table)\n",
    "# library(ggsci)\n",
    "# library(pROC)\n",
    "# library(pheatmap)\n",
    "# library(ggmap)"
   ]
  },
  {
   "cell_type": "code",
   "execution_count": 2,
   "metadata": {},
   "outputs": [
    {
     "name": "stderr",
     "output_type": "stream",
     "text": [
      "also installing the dependencies 'sp', 'proto', 'RgoogleMaps', 'rjson', 'mapproj', 'jpeg', 'geosphere'\n",
      "\n"
     ]
    },
    {
     "name": "stdout",
     "output_type": "stream",
     "text": [
      "package 'sp' successfully unpacked and MD5 sums checked\n",
      "package 'proto' successfully unpacked and MD5 sums checked\n",
      "package 'RgoogleMaps' successfully unpacked and MD5 sums checked\n",
      "package 'rjson' successfully unpacked and MD5 sums checked\n",
      "package 'mapproj' successfully unpacked and MD5 sums checked\n",
      "package 'jpeg' successfully unpacked and MD5 sums checked\n",
      "package 'geosphere' successfully unpacked and MD5 sums checked\n",
      "package 'ggmap' successfully unpacked and MD5 sums checked\n",
      "\n",
      "The downloaded binary packages are in\n",
      "\tC:\\Users\\k\\AppData\\Local\\Temp\\Rtmpi41GXH\\downloaded_packages\n"
     ]
    }
   ],
   "source": [
    "install.packages('ggmap')"
   ]
  },
  {
   "cell_type": "code",
   "execution_count": 20,
   "metadata": {},
   "outputs": [
    {
     "name": "stderr",
     "output_type": "stream",
     "text": [
      "also installing the dependency 'plyr'\n",
      "\n",
      "Warning message:\n",
      "\"package 'ggplot2' is in use and will not be installed\""
     ]
    },
    {
     "name": "stdout",
     "output_type": "stream",
     "text": [
      "package 'plyr' successfully unpacked and MD5 sums checked\n"
     ]
    },
    {
     "name": "stderr",
     "output_type": "stream",
     "text": [
      "Warning message:\n",
      "\"cannot remove prior installation of package 'plyr'\""
     ]
    },
    {
     "name": "stdout",
     "output_type": "stream",
     "text": [
      "\n",
      "The downloaded binary packages are in\n",
      "\tC:\\Users\\k\\AppData\\Local\\Temp\\Rtmpi41GXH\\downloaded_packages\n"
     ]
    },
    {
     "name": "stderr",
     "output_type": "stream",
     "text": [
      "also installing the dependency 'plyr'\n",
      "\n",
      "Warning message:\n",
      "\"package 'ggiraph' is in use and will not be installed\""
     ]
    },
    {
     "name": "stdout",
     "output_type": "stream",
     "text": [
      "package 'plyr' successfully unpacked and MD5 sums checked\n"
     ]
    },
    {
     "name": "stderr",
     "output_type": "stream",
     "text": [
      "Warning message:\n",
      "\"cannot remove prior installation of package 'plyr'\""
     ]
    },
    {
     "name": "stdout",
     "output_type": "stream",
     "text": [
      "\n",
      "The downloaded binary packages are in\n",
      "\tC:\\Users\\k\\AppData\\Local\\Temp\\Rtmpi41GXH\\downloaded_packages\n",
      "package 'maptools' successfully unpacked and MD5 sums checked\n",
      "\n",
      "The downloaded binary packages are in\n",
      "\tC:\\Users\\k\\AppData\\Local\\Temp\\Rtmpi41GXH\\downloaded_packages\n",
      "package 'rgdal' successfully unpacked and MD5 sums checked\n",
      "\n",
      "The downloaded binary packages are in\n",
      "\tC:\\Users\\k\\AppData\\Local\\Temp\\Rtmpi41GXH\\downloaded_packages\n"
     ]
    }
   ],
   "source": [
    "install.packages('ggplot2')\n",
    "install.packages('ggiraph')\n",
    "install.packages('maptools')\n",
    "install.packages('rgdal')"
   ]
  },
  {
   "cell_type": "code",
   "execution_count": 17,
   "metadata": {},
   "outputs": [
    {
     "name": "stderr",
     "output_type": "stream",
     "text": [
      "also installing the dependencies 'rex', 'abind', 'itertools', 'covr'\n",
      "\n"
     ]
    },
    {
     "name": "stdout",
     "output_type": "stream",
     "text": [
      "package 'rex' successfully unpacked and MD5 sums checked\n",
      "package 'abind' successfully unpacked and MD5 sums checked\n",
      "package 'itertools' successfully unpacked and MD5 sums checked\n",
      "package 'covr' successfully unpacked and MD5 sums checked\n",
      "package 'plyr' successfully unpacked and MD5 sums checked\n"
     ]
    },
    {
     "name": "stderr",
     "output_type": "stream",
     "text": [
      "Warning message:\n",
      "\"cannot remove prior installation of package 'plyr'\""
     ]
    },
    {
     "name": "stdout",
     "output_type": "stream",
     "text": [
      "\n",
      "The downloaded binary packages are in\n",
      "\tC:\\Users\\k\\AppData\\Local\\Temp\\Rtmpi41GXH\\downloaded_packages\n"
     ]
    },
    {
     "name": "stderr",
     "output_type": "stream",
     "text": [
      "Warning message:\n",
      "\"dependency 'GenomicRanges' is not available\"also installing the dependency 'plyr'\n",
      "\n"
     ]
    },
    {
     "name": "stdout",
     "output_type": "stream",
     "text": [
      "package 'plyr' successfully unpacked and MD5 sums checked\n"
     ]
    },
    {
     "name": "stderr",
     "output_type": "stream",
     "text": [
      "Warning message:\n",
      "\"cannot remove prior installation of package 'plyr'\""
     ]
    },
    {
     "name": "stdout",
     "output_type": "stream",
     "text": [
      "package 'data.table' successfully unpacked and MD5 sums checked\n"
     ]
    },
    {
     "name": "stderr",
     "output_type": "stream",
     "text": [
      "Warning message:\n",
      "\"cannot remove prior installation of package 'data.table'\""
     ]
    },
    {
     "name": "stdout",
     "output_type": "stream",
     "text": [
      "\n",
      "The downloaded binary packages are in\n",
      "\tC:\\Users\\k\\AppData\\Local\\Temp\\Rtmpi41GXH\\downloaded_packages\n"
     ]
    }
   ],
   "source": [
    "install.packages(\"plyr\", dependencies=TRUE)\n",
    "install.packages(\"data.table\", dependencies=TRUE)"
   ]
  },
  {
   "cell_type": "code",
   "execution_count": 21,
   "metadata": {},
   "outputs": [
    {
     "ename": "ERROR",
     "evalue": "Error in library(data.table): there is no package called 'data.table'\n",
     "output_type": "error",
     "traceback": [
      "Error in library(data.table): there is no package called 'data.table'\nTraceback:\n",
      "1. library(data.table)",
      "2. stop(txt, domain = NA)"
     ]
    }
   ],
   "source": [
    "library(data.table)\n",
    "library(plyr)\n",
    "\n",
    "library(ggmap)\n",
    "library(ggplot2)\n",
    "library(ggiraph)\n"
   ]
  },
  {
   "cell_type": "code",
   "execution_count": null,
   "metadata": {},
   "outputs": [],
   "source": [
    "\n",
    "\n",
    "setwd('F:/R-notes/plot_map/')\n",
    "my_map<-readShapePoly(\"bou2_4p.shp\")\n",
    "\n",
    "x <- my_map@data\n",
    "xs <- data.frame(x,id=seq(0:924)-1)\n",
    "\n",
    "china_map = fortify(my_map)\n",
    "china_map_data <- join(china_map, xs, type = \"full\") "
   ]
  },
  {
   "cell_type": "code",
   "execution_count": null,
   "metadata": {},
   "outputs": [],
   "source": [
    "china_data_2013 <- join(china_map_data, GOD_regions_df2013, type=\"full\")\n",
    "colnames(GOD_regions_df) = c(\"NAME\", \"Year\", \"Number\")"
   ]
  },
  {
   "cell_type": "code",
   "execution_count": null,
   "metadata": {},
   "outputs": [],
   "source": [
    "ggplot(china_data_2013, aes(x=long, y=lat, group = group, fill=Number)) +\n",
    "  geom_polygon(aes(fill = Number, group = group, tooltip = NAME, data_id = long)) +  geom_path(colour = \"grey40\") +\n",
    "  scale_fill_gradient(low = \"white\", high = \"red\") +\n",
    "  coord_map(\"polyconic\") + theme_minimal() + labs(title=\"2013年肝癌发病率统计\")+\n",
    "  theme(panel.grid = element_blank(), panel.background = element_blank(), axis.line = element_blank(), \n",
    "        axis.text = element_blank(), axis.ticks = element_blank(), axis.title = element_blank(),plot.title = element_text(hjust = 0.5), \n",
    "        legend.position = c(0.1,0.3)) + ggsave(\"C:/Users/Administrator/Desktop/test1.png\",width=8, height=8,dpi=300)"
   ]
  }
 ],
 "metadata": {
  "kernelspec": {
   "display_name": "R",
   "language": "R",
   "name": "ir"
  },
  "language_info": {
   "codemirror_mode": "r",
   "file_extension": ".r",
   "mimetype": "text/x-r-source",
   "name": "R",
   "pygments_lexer": "r",
   "version": "3.4.3"
  }
 },
 "nbformat": 4,
 "nbformat_minor": 2
}
